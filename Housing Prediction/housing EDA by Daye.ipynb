{
 "cells": [
  {
   "cell_type": "code",
   "execution_count": 1,
   "metadata": {},
   "outputs": [],
   "source": [
    "import numpy as np\n",
    "import pandas as pd\n",
    "import matplotlib.pyplot as plt\n",
    "import seaborn as sns"
   ]
  },
  {
   "cell_type": "code",
   "execution_count": 2,
   "metadata": {},
   "outputs": [],
   "source": [
    "hs_d = pd.read_csv('Housing_data.csv')"
   ]
  },
  {
   "cell_type": "code",
   "execution_count": 3,
   "metadata": {},
   "outputs": [
    {
     "data": {
      "text/html": [
       "<div>\n",
       "<style scoped>\n",
       "    .dataframe tbody tr th:only-of-type {\n",
       "        vertical-align: middle;\n",
       "    }\n",
       "\n",
       "    .dataframe tbody tr th {\n",
       "        vertical-align: top;\n",
       "    }\n",
       "\n",
       "    .dataframe thead th {\n",
       "        text-align: right;\n",
       "    }\n",
       "</style>\n",
       "<table border=\"1\" class=\"dataframe\">\n",
       "  <thead>\n",
       "    <tr style=\"text-align: right;\">\n",
       "      <th></th>\n",
       "      <th>price</th>\n",
       "      <th>bedrooms</th>\n",
       "      <th>bathrooms</th>\n",
       "      <th>toilets</th>\n",
       "      <th>estate_flag</th>\n",
       "      <th>terrace_flag</th>\n",
       "      <th>new_flag</th>\n",
       "      <th>serviced_flag</th>\n",
       "      <th>estate_price</th>\n",
       "      <th>serviced_price</th>\n",
       "      <th>location_rank</th>\n",
       "      <th>new_price</th>\n",
       "      <th>exec_flag</th>\n",
       "      <th>locationbed</th>\n",
       "      <th>location</th>\n",
       "      <th>spec_location</th>\n",
       "      <th>description</th>\n",
       "    </tr>\n",
       "  </thead>\n",
       "  <tbody>\n",
       "    <tr>\n",
       "      <th>0</th>\n",
       "      <td>850000.0</td>\n",
       "      <td>3.0</td>\n",
       "      <td>2.0</td>\n",
       "      <td>3.0</td>\n",
       "      <td>0.0</td>\n",
       "      <td>0.0</td>\n",
       "      <td>0.0</td>\n",
       "      <td>0.0</td>\n",
       "      <td>1300000.0</td>\n",
       "      <td>1840000.0</td>\n",
       "      <td>31.0</td>\n",
       "      <td>1840000.0</td>\n",
       "      <td>1.0</td>\n",
       "      <td>gbagada3</td>\n",
       "      <td>gbagada</td>\n",
       "      <td>sosanya soluyi gbagada lagos</td>\n",
       "      <td>3 bedroom Flat / Apartment for rent Sosanya So...</td>\n",
       "    </tr>\n",
       "    <tr>\n",
       "      <th>1</th>\n",
       "      <td>650000.0</td>\n",
       "      <td>1.0</td>\n",
       "      <td>1.0</td>\n",
       "      <td>1.0</td>\n",
       "      <td>1.0</td>\n",
       "      <td>0.0</td>\n",
       "      <td>1.0</td>\n",
       "      <td>1.0</td>\n",
       "      <td>400000.0</td>\n",
       "      <td>560000.0</td>\n",
       "      <td>9.0</td>\n",
       "      <td>560000.0</td>\n",
       "      <td>1.0</td>\n",
       "      <td>gbagada1</td>\n",
       "      <td>gbagada</td>\n",
       "      <td>millenuim ups gbagada lagos</td>\n",
       "      <td>1 bedroom mini flat Mini flat Flat / Apartment...</td>\n",
       "    </tr>\n",
       "    <tr>\n",
       "      <th>2</th>\n",
       "      <td>600000.0</td>\n",
       "      <td>2.0</td>\n",
       "      <td>2.0</td>\n",
       "      <td>2.0</td>\n",
       "      <td>0.0</td>\n",
       "      <td>0.0</td>\n",
       "      <td>0.0</td>\n",
       "      <td>0.0</td>\n",
       "      <td>800000.0</td>\n",
       "      <td>1060000.0</td>\n",
       "      <td>26.0</td>\n",
       "      <td>1060000.0</td>\n",
       "      <td>1.0</td>\n",
       "      <td>gbagada2</td>\n",
       "      <td>gbagada</td>\n",
       "      <td>alapere gbagada lagos</td>\n",
       "      <td>2bed at Alapere, all rooms ensuit ... ...</td>\n",
       "    </tr>\n",
       "    <tr>\n",
       "      <th>3</th>\n",
       "      <td>1500000.0</td>\n",
       "      <td>3.0</td>\n",
       "      <td>3.0</td>\n",
       "      <td>4.0</td>\n",
       "      <td>1.0</td>\n",
       "      <td>0.0</td>\n",
       "      <td>0.0</td>\n",
       "      <td>0.0</td>\n",
       "      <td>1300000.0</td>\n",
       "      <td>1840000.0</td>\n",
       "      <td>31.0</td>\n",
       "      <td>1840000.0</td>\n",
       "      <td>2.0</td>\n",
       "      <td>gbagada3</td>\n",
       "      <td>gbagada</td>\n",
       "      <td>medina gbagada lagos</td>\n",
       "      <td>3 bedroom Flat / Apartment for rent Medina Gba...</td>\n",
       "    </tr>\n",
       "    <tr>\n",
       "      <th>4</th>\n",
       "      <td>1500000.0</td>\n",
       "      <td>3.0</td>\n",
       "      <td>3.0</td>\n",
       "      <td>3.0</td>\n",
       "      <td>1.0</td>\n",
       "      <td>0.0</td>\n",
       "      <td>0.0</td>\n",
       "      <td>0.0</td>\n",
       "      <td>1300000.0</td>\n",
       "      <td>1840000.0</td>\n",
       "      <td>31.0</td>\n",
       "      <td>1840000.0</td>\n",
       "      <td>2.0</td>\n",
       "      <td>gbagada3</td>\n",
       "      <td>gbagada</td>\n",
       "      <td>adeola atunrase medina gbagada lagos</td>\n",
       "      <td>3 bedroom House for rent Adeola Atunrase Medin...</td>\n",
       "    </tr>\n",
       "  </tbody>\n",
       "</table>\n",
       "</div>"
      ],
      "text/plain": [
       "       price  bedrooms  bathrooms  toilets  estate_flag  terrace_flag  \\\n",
       "0   850000.0       3.0        2.0      3.0          0.0           0.0   \n",
       "1   650000.0       1.0        1.0      1.0          1.0           0.0   \n",
       "2   600000.0       2.0        2.0      2.0          0.0           0.0   \n",
       "3  1500000.0       3.0        3.0      4.0          1.0           0.0   \n",
       "4  1500000.0       3.0        3.0      3.0          1.0           0.0   \n",
       "\n",
       "   new_flag  serviced_flag  estate_price  serviced_price  location_rank  \\\n",
       "0       0.0            0.0     1300000.0       1840000.0           31.0   \n",
       "1       1.0            1.0      400000.0        560000.0            9.0   \n",
       "2       0.0            0.0      800000.0       1060000.0           26.0   \n",
       "3       0.0            0.0     1300000.0       1840000.0           31.0   \n",
       "4       0.0            0.0     1300000.0       1840000.0           31.0   \n",
       "\n",
       "   new_price  exec_flag locationbed location  \\\n",
       "0  1840000.0        1.0    gbagada3  gbagada   \n",
       "1   560000.0        1.0    gbagada1  gbagada   \n",
       "2  1060000.0        1.0    gbagada2  gbagada   \n",
       "3  1840000.0        2.0    gbagada3  gbagada   \n",
       "4  1840000.0        2.0    gbagada3  gbagada   \n",
       "\n",
       "                          spec_location  \\\n",
       "0          sosanya soluyi gbagada lagos   \n",
       "1           millenuim ups gbagada lagos   \n",
       "2                 alapere gbagada lagos   \n",
       "3                  medina gbagada lagos   \n",
       "4  adeola atunrase medina gbagada lagos   \n",
       "\n",
       "                                         description  \n",
       "0  3 bedroom Flat / Apartment for rent Sosanya So...  \n",
       "1  1 bedroom mini flat Mini flat Flat / Apartment...  \n",
       "2          2bed at Alapere, all rooms ensuit ... ...  \n",
       "3  3 bedroom Flat / Apartment for rent Medina Gba...  \n",
       "4  3 bedroom House for rent Adeola Atunrase Medin...  "
      ]
     },
     "execution_count": 3,
     "metadata": {},
     "output_type": "execute_result"
    }
   ],
   "source": [
    "hs_d.head()"
   ]
  },
  {
   "cell_type": "markdown",
   "metadata": {},
   "source": [
    "# Exploratory Data Analysis"
   ]
  },
  {
   "cell_type": "code",
   "execution_count": 4,
   "metadata": {},
   "outputs": [
    {
     "data": {
      "text/plain": [
       "price             0\n",
       "bedrooms          0\n",
       "bathrooms         0\n",
       "toilets           0\n",
       "estate_flag       0\n",
       "terrace_flag      0\n",
       "new_flag          0\n",
       "serviced_flag     0\n",
       "estate_price      0\n",
       "serviced_price    0\n",
       "location_rank     0\n",
       "new_price         0\n",
       "exec_flag         0\n",
       "locationbed       0\n",
       "location          0\n",
       "spec_location     0\n",
       "description       0\n",
       "dtype: int64"
      ]
     },
     "execution_count": 4,
     "metadata": {},
     "output_type": "execute_result"
    }
   ],
   "source": [
    "hs_d.isnull().sum()"
   ]
  },
  {
   "cell_type": "code",
   "execution_count": 5,
   "metadata": {},
   "outputs": [
    {
     "data": {
      "text/plain": [
       "price              130\n",
       "bedrooms             5\n",
       "bathrooms            7\n",
       "toilets              8\n",
       "estate_flag          2\n",
       "terrace_flag         2\n",
       "new_flag             2\n",
       "serviced_flag        2\n",
       "estate_price        33\n",
       "serviced_price      40\n",
       "location_rank       34\n",
       "new_price           40\n",
       "exec_flag            4\n",
       "locationbed         47\n",
       "location            10\n",
       "spec_location     1965\n",
       "description       3994\n",
       "dtype: int64"
      ]
     },
     "execution_count": 5,
     "metadata": {},
     "output_type": "execute_result"
    }
   ],
   "source": [
    "hs_d.nunique()"
   ]
  },
  {
   "cell_type": "markdown",
   "metadata": {},
   "source": [
    "# The Cateforical features for the Dataset"
   ]
  },
  {
   "cell_type": "code",
   "execution_count": 6,
   "metadata": {},
   "outputs": [
    {
     "name": "stdout",
     "output_type": "stream",
     "text": [
      "count value for each category in each feature: bedrooms\n",
      "1.0     855\n",
      "2.0     941\n",
      "3.0    1444\n",
      "4.0     872\n",
      "5.0     265\n",
      "Name: bedrooms, dtype: int64 \n",
      "\n",
      "count value for each category in each feature: bathrooms\n",
      "0.0     457\n",
      "1.0     745\n",
      "2.0     803\n",
      "3.0    1252\n",
      "4.0     792\n",
      "5.0     300\n",
      "6.0      28\n",
      "Name: bathrooms, dtype: int64 \n",
      "\n",
      "count value for each category in each feature: toilets\n",
      "0.0     465\n",
      "1.0     622\n",
      "2.0     477\n",
      "3.0     868\n",
      "4.0    1075\n",
      "5.0     662\n",
      "6.0     199\n",
      "7.0       9\n",
      "Name: toilets, dtype: int64 \n",
      "\n",
      "count value for each category in each feature: estate_flag\n",
      "0.0    1802\n",
      "1.0    2575\n",
      "Name: estate_flag, dtype: int64 \n",
      "\n",
      "count value for each category in each feature: terrace_flag\n",
      "0.0    3049\n",
      "1.0    1328\n",
      "Name: terrace_flag, dtype: int64 \n",
      "\n",
      "count value for each category in each feature: new_flag\n",
      "0.0    2038\n",
      "1.0    2339\n",
      "Name: new_flag, dtype: int64 \n",
      "\n",
      "count value for each category in each feature: serviced_flag\n",
      "0.0    2602\n",
      "1.0    1775\n",
      "Name: serviced_flag, dtype: int64 \n",
      "\n",
      "count value for each category in each feature: exec_flag\n",
      "1.0    1781\n",
      "2.0    1110\n",
      "3.0     707\n",
      "4.0     779\n",
      "Name: exec_flag, dtype: int64 \n",
      "\n",
      "count value for each category in each feature: location\n",
      "ajah           584\n",
      "gbagada        300\n",
      "ikeja          332\n",
      "ikorodu        138\n",
      "ikoyi          212\n",
      "iyanaipaja      25\n",
      "lekki         2098\n",
      "ogba           193\n",
      "surulere       193\n",
      "yaba           302\n",
      "Name: location, dtype: int64 \n",
      "\n",
      "The number of Categorical feautures: 17\n"
     ]
    }
   ],
   "source": [
    "for i in hs_d.columns:\n",
    "    if hs_d[i].nunique() <= 10:\n",
    "        print ( 'count value for each category in each feature: {}'.format(hs_d.groupby(i)[i].count()), '\\n')\n",
    "\n",
    "print ('The number of Categorical feautures: {}'.format(len(hs_d.columns)))"
   ]
  },
  {
   "cell_type": "code",
   "execution_count": 7,
   "metadata": {},
   "outputs": [
    {
     "name": "stdout",
     "output_type": "stream",
     "text": [
      "<class 'pandas.core.frame.DataFrame'>\n",
      "RangeIndex: 4377 entries, 0 to 4376\n",
      "Data columns (total 17 columns):\n",
      " #   Column          Non-Null Count  Dtype  \n",
      "---  ------          --------------  -----  \n",
      " 0   price           4377 non-null   float64\n",
      " 1   bedrooms        4377 non-null   float64\n",
      " 2   bathrooms       4377 non-null   float64\n",
      " 3   toilets         4377 non-null   float64\n",
      " 4   estate_flag     4377 non-null   float64\n",
      " 5   terrace_flag    4377 non-null   float64\n",
      " 6   new_flag        4377 non-null   float64\n",
      " 7   serviced_flag   4377 non-null   float64\n",
      " 8   estate_price    4377 non-null   float64\n",
      " 9   serviced_price  4377 non-null   float64\n",
      " 10  location_rank   4377 non-null   float64\n",
      " 11  new_price       4377 non-null   float64\n",
      " 12  exec_flag       4377 non-null   float64\n",
      " 13  locationbed     4377 non-null   object \n",
      " 14  location        4377 non-null   object \n",
      " 15  spec_location   4377 non-null   object \n",
      " 16  description     4377 non-null   object \n",
      "dtypes: float64(13), object(4)\n",
      "memory usage: 581.4+ KB\n"
     ]
    }
   ],
   "source": [
    "hs_d.info()"
   ]
  },
  {
   "cell_type": "code",
   "execution_count": null,
   "metadata": {},
   "outputs": [],
   "source": []
  },
  {
   "cell_type": "markdown",
   "metadata": {},
   "source": [
    "# Correlation \n",
    "\n",
    "examining the dpendent relationship with the numerical features of the dataset"
   ]
  },
  {
   "cell_type": "code",
   "execution_count": 8,
   "metadata": {},
   "outputs": [],
   "source": [
    "corr_hsd = hs_d.corr()"
   ]
  },
  {
   "cell_type": "code",
   "execution_count": 9,
   "metadata": {},
   "outputs": [
    {
     "data": {
      "text/html": [
       "<div>\n",
       "<style scoped>\n",
       "    .dataframe tbody tr th:only-of-type {\n",
       "        vertical-align: middle;\n",
       "    }\n",
       "\n",
       "    .dataframe tbody tr th {\n",
       "        vertical-align: top;\n",
       "    }\n",
       "\n",
       "    .dataframe thead th {\n",
       "        text-align: right;\n",
       "    }\n",
       "</style>\n",
       "<table border=\"1\" class=\"dataframe\">\n",
       "  <thead>\n",
       "    <tr style=\"text-align: right;\">\n",
       "      <th></th>\n",
       "      <th>price</th>\n",
       "      <th>bedrooms</th>\n",
       "      <th>bathrooms</th>\n",
       "      <th>toilets</th>\n",
       "      <th>estate_flag</th>\n",
       "      <th>terrace_flag</th>\n",
       "      <th>new_flag</th>\n",
       "      <th>serviced_flag</th>\n",
       "      <th>estate_price</th>\n",
       "      <th>serviced_price</th>\n",
       "      <th>location_rank</th>\n",
       "      <th>new_price</th>\n",
       "      <th>exec_flag</th>\n",
       "    </tr>\n",
       "  </thead>\n",
       "  <tbody>\n",
       "    <tr>\n",
       "      <th>price</th>\n",
       "      <td>1.000000</td>\n",
       "      <td>0.657021</td>\n",
       "      <td>0.447772</td>\n",
       "      <td>0.461837</td>\n",
       "      <td>0.249855</td>\n",
       "      <td>0.697134</td>\n",
       "      <td>0.163079</td>\n",
       "      <td>0.349731</td>\n",
       "      <td>0.821092</td>\n",
       "      <td>0.816925</td>\n",
       "      <td>0.792509</td>\n",
       "      <td>0.816925</td>\n",
       "      <td>0.694552</td>\n",
       "    </tr>\n",
       "    <tr>\n",
       "      <th>bedrooms</th>\n",
       "      <td>0.657021</td>\n",
       "      <td>1.000000</td>\n",
       "      <td>0.675825</td>\n",
       "      <td>0.666456</td>\n",
       "      <td>0.011875</td>\n",
       "      <td>0.625976</td>\n",
       "      <td>0.051302</td>\n",
       "      <td>0.071721</td>\n",
       "      <td>0.745899</td>\n",
       "      <td>0.732251</td>\n",
       "      <td>0.829569</td>\n",
       "      <td>0.732251</td>\n",
       "      <td>0.428395</td>\n",
       "    </tr>\n",
       "    <tr>\n",
       "      <th>bathrooms</th>\n",
       "      <td>0.447772</td>\n",
       "      <td>0.675825</td>\n",
       "      <td>1.000000</td>\n",
       "      <td>0.945059</td>\n",
       "      <td>0.028160</td>\n",
       "      <td>0.426519</td>\n",
       "      <td>0.156822</td>\n",
       "      <td>0.090400</td>\n",
       "      <td>0.504016</td>\n",
       "      <td>0.494629</td>\n",
       "      <td>0.555994</td>\n",
       "      <td>0.494629</td>\n",
       "      <td>0.284639</td>\n",
       "    </tr>\n",
       "    <tr>\n",
       "      <th>toilets</th>\n",
       "      <td>0.461837</td>\n",
       "      <td>0.666456</td>\n",
       "      <td>0.945059</td>\n",
       "      <td>1.000000</td>\n",
       "      <td>0.041909</td>\n",
       "      <td>0.413571</td>\n",
       "      <td>0.159559</td>\n",
       "      <td>0.135490</td>\n",
       "      <td>0.501710</td>\n",
       "      <td>0.496248</td>\n",
       "      <td>0.566172</td>\n",
       "      <td>0.496248</td>\n",
       "      <td>0.320637</td>\n",
       "    </tr>\n",
       "    <tr>\n",
       "      <th>estate_flag</th>\n",
       "      <td>0.249855</td>\n",
       "      <td>0.011875</td>\n",
       "      <td>0.028160</td>\n",
       "      <td>0.041909</td>\n",
       "      <td>1.000000</td>\n",
       "      <td>0.156250</td>\n",
       "      <td>0.214016</td>\n",
       "      <td>0.257895</td>\n",
       "      <td>-0.007466</td>\n",
       "      <td>-0.005909</td>\n",
       "      <td>0.005035</td>\n",
       "      <td>-0.005909</td>\n",
       "      <td>0.223545</td>\n",
       "    </tr>\n",
       "    <tr>\n",
       "      <th>terrace_flag</th>\n",
       "      <td>0.697134</td>\n",
       "      <td>0.625976</td>\n",
       "      <td>0.426519</td>\n",
       "      <td>0.413571</td>\n",
       "      <td>0.156250</td>\n",
       "      <td>1.000000</td>\n",
       "      <td>0.128857</td>\n",
       "      <td>0.158359</td>\n",
       "      <td>0.642534</td>\n",
       "      <td>0.622621</td>\n",
       "      <td>0.624647</td>\n",
       "      <td>0.622621</td>\n",
       "      <td>0.500956</td>\n",
       "    </tr>\n",
       "    <tr>\n",
       "      <th>new_flag</th>\n",
       "      <td>0.163079</td>\n",
       "      <td>0.051302</td>\n",
       "      <td>0.156822</td>\n",
       "      <td>0.159559</td>\n",
       "      <td>0.214016</td>\n",
       "      <td>0.128857</td>\n",
       "      <td>1.000000</td>\n",
       "      <td>0.253236</td>\n",
       "      <td>-0.002975</td>\n",
       "      <td>-0.009811</td>\n",
       "      <td>-0.004003</td>\n",
       "      <td>-0.009811</td>\n",
       "      <td>0.105489</td>\n",
       "    </tr>\n",
       "    <tr>\n",
       "      <th>serviced_flag</th>\n",
       "      <td>0.349731</td>\n",
       "      <td>0.071721</td>\n",
       "      <td>0.090400</td>\n",
       "      <td>0.135490</td>\n",
       "      <td>0.257895</td>\n",
       "      <td>0.158359</td>\n",
       "      <td>0.253236</td>\n",
       "      <td>1.000000</td>\n",
       "      <td>0.169583</td>\n",
       "      <td>0.176223</td>\n",
       "      <td>0.194179</td>\n",
       "      <td>0.176223</td>\n",
       "      <td>0.373014</td>\n",
       "    </tr>\n",
       "    <tr>\n",
       "      <th>estate_price</th>\n",
       "      <td>0.821092</td>\n",
       "      <td>0.745899</td>\n",
       "      <td>0.504016</td>\n",
       "      <td>0.501710</td>\n",
       "      <td>-0.007466</td>\n",
       "      <td>0.642534</td>\n",
       "      <td>-0.002975</td>\n",
       "      <td>0.169583</td>\n",
       "      <td>1.000000</td>\n",
       "      <td>0.991465</td>\n",
       "      <td>0.934464</td>\n",
       "      <td>0.991465</td>\n",
       "      <td>0.552332</td>\n",
       "    </tr>\n",
       "    <tr>\n",
       "      <th>serviced_price</th>\n",
       "      <td>0.816925</td>\n",
       "      <td>0.732251</td>\n",
       "      <td>0.494629</td>\n",
       "      <td>0.496248</td>\n",
       "      <td>-0.005909</td>\n",
       "      <td>0.622621</td>\n",
       "      <td>-0.009811</td>\n",
       "      <td>0.176223</td>\n",
       "      <td>0.991465</td>\n",
       "      <td>1.000000</td>\n",
       "      <td>0.938154</td>\n",
       "      <td>1.000000</td>\n",
       "      <td>0.566417</td>\n",
       "    </tr>\n",
       "    <tr>\n",
       "      <th>location_rank</th>\n",
       "      <td>0.792509</td>\n",
       "      <td>0.829569</td>\n",
       "      <td>0.555994</td>\n",
       "      <td>0.566172</td>\n",
       "      <td>0.005035</td>\n",
       "      <td>0.624647</td>\n",
       "      <td>-0.004003</td>\n",
       "      <td>0.194179</td>\n",
       "      <td>0.934464</td>\n",
       "      <td>0.938154</td>\n",
       "      <td>1.000000</td>\n",
       "      <td>0.938154</td>\n",
       "      <td>0.615212</td>\n",
       "    </tr>\n",
       "    <tr>\n",
       "      <th>new_price</th>\n",
       "      <td>0.816925</td>\n",
       "      <td>0.732251</td>\n",
       "      <td>0.494629</td>\n",
       "      <td>0.496248</td>\n",
       "      <td>-0.005909</td>\n",
       "      <td>0.622621</td>\n",
       "      <td>-0.009811</td>\n",
       "      <td>0.176223</td>\n",
       "      <td>0.991465</td>\n",
       "      <td>1.000000</td>\n",
       "      <td>0.938154</td>\n",
       "      <td>1.000000</td>\n",
       "      <td>0.566417</td>\n",
       "    </tr>\n",
       "    <tr>\n",
       "      <th>exec_flag</th>\n",
       "      <td>0.694552</td>\n",
       "      <td>0.428395</td>\n",
       "      <td>0.284639</td>\n",
       "      <td>0.320637</td>\n",
       "      <td>0.223545</td>\n",
       "      <td>0.500956</td>\n",
       "      <td>0.105489</td>\n",
       "      <td>0.373014</td>\n",
       "      <td>0.552332</td>\n",
       "      <td>0.566417</td>\n",
       "      <td>0.615212</td>\n",
       "      <td>0.566417</td>\n",
       "      <td>1.000000</td>\n",
       "    </tr>\n",
       "  </tbody>\n",
       "</table>\n",
       "</div>"
      ],
      "text/plain": [
       "                   price  bedrooms  bathrooms   toilets  estate_flag  \\\n",
       "price           1.000000  0.657021   0.447772  0.461837     0.249855   \n",
       "bedrooms        0.657021  1.000000   0.675825  0.666456     0.011875   \n",
       "bathrooms       0.447772  0.675825   1.000000  0.945059     0.028160   \n",
       "toilets         0.461837  0.666456   0.945059  1.000000     0.041909   \n",
       "estate_flag     0.249855  0.011875   0.028160  0.041909     1.000000   \n",
       "terrace_flag    0.697134  0.625976   0.426519  0.413571     0.156250   \n",
       "new_flag        0.163079  0.051302   0.156822  0.159559     0.214016   \n",
       "serviced_flag   0.349731  0.071721   0.090400  0.135490     0.257895   \n",
       "estate_price    0.821092  0.745899   0.504016  0.501710    -0.007466   \n",
       "serviced_price  0.816925  0.732251   0.494629  0.496248    -0.005909   \n",
       "location_rank   0.792509  0.829569   0.555994  0.566172     0.005035   \n",
       "new_price       0.816925  0.732251   0.494629  0.496248    -0.005909   \n",
       "exec_flag       0.694552  0.428395   0.284639  0.320637     0.223545   \n",
       "\n",
       "                terrace_flag  new_flag  serviced_flag  estate_price  \\\n",
       "price               0.697134  0.163079       0.349731      0.821092   \n",
       "bedrooms            0.625976  0.051302       0.071721      0.745899   \n",
       "bathrooms           0.426519  0.156822       0.090400      0.504016   \n",
       "toilets             0.413571  0.159559       0.135490      0.501710   \n",
       "estate_flag         0.156250  0.214016       0.257895     -0.007466   \n",
       "terrace_flag        1.000000  0.128857       0.158359      0.642534   \n",
       "new_flag            0.128857  1.000000       0.253236     -0.002975   \n",
       "serviced_flag       0.158359  0.253236       1.000000      0.169583   \n",
       "estate_price        0.642534 -0.002975       0.169583      1.000000   \n",
       "serviced_price      0.622621 -0.009811       0.176223      0.991465   \n",
       "location_rank       0.624647 -0.004003       0.194179      0.934464   \n",
       "new_price           0.622621 -0.009811       0.176223      0.991465   \n",
       "exec_flag           0.500956  0.105489       0.373014      0.552332   \n",
       "\n",
       "                serviced_price  location_rank  new_price  exec_flag  \n",
       "price                 0.816925       0.792509   0.816925   0.694552  \n",
       "bedrooms              0.732251       0.829569   0.732251   0.428395  \n",
       "bathrooms             0.494629       0.555994   0.494629   0.284639  \n",
       "toilets               0.496248       0.566172   0.496248   0.320637  \n",
       "estate_flag          -0.005909       0.005035  -0.005909   0.223545  \n",
       "terrace_flag          0.622621       0.624647   0.622621   0.500956  \n",
       "new_flag             -0.009811      -0.004003  -0.009811   0.105489  \n",
       "serviced_flag         0.176223       0.194179   0.176223   0.373014  \n",
       "estate_price          0.991465       0.934464   0.991465   0.552332  \n",
       "serviced_price        1.000000       0.938154   1.000000   0.566417  \n",
       "location_rank         0.938154       1.000000   0.938154   0.615212  \n",
       "new_price             1.000000       0.938154   1.000000   0.566417  \n",
       "exec_flag             0.566417       0.615212   0.566417   1.000000  "
      ]
     },
     "execution_count": 9,
     "metadata": {},
     "output_type": "execute_result"
    }
   ],
   "source": [
    "corr_hsd\n",
    "#.groupby('price').sum()"
   ]
  },
  {
   "cell_type": "code",
   "execution_count": 10,
   "metadata": {},
   "outputs": [
    {
     "data": {
      "text/plain": [
       "<seaborn.axisgrid.PairGrid at 0xa7f2f6acc8>"
      ]
     },
     "execution_count": 10,
     "metadata": {},
     "output_type": "execute_result"
    },
    {
     "data": {
      "image/png": "[encoded data removed]",
      "text/plain": [
       "<Figure size 2340x2340 with 182 Axes>"
      ]
     },
     "metadata": {
      "needs_background": "light"
     },
     "output_type": "display_data"
    }
   ],
   "source": [
    "sns.pairplot(corr_hsd)"
   ]
  },
  {
   "cell_type": "markdown",
   "metadata": {},
   "source": [
    "# Using the correlated plot and values \n",
    "\n",
    "1. Finding out the features that have a strong positive correlation with each other\n",
    "2. ...............................................a strong negative correlation with each other \n",
    "\n",
    "From observation \n",
    "\n",
    "The feature columns (estate price, serviced price, location rank, new price) have a high correlation with each other.\n",
    "\n",
    "The feature columns (bedrooms, bathrooms, toilets) have a high correlation with each other.\n"
   ]
  },
  {
   "cell_type": "markdown",
   "metadata": {},
   "source": [
    "Further realtions can be gottern individually to get a better understanding of the Data set "
   ]
  },
  {
   "cell_type": "markdown",
   "metadata": {},
   "source": [
    "# Possible models and tagert vairables to predict\n",
    "\n",
    "Target variables\n",
    "1. Price of an Apartment (Regression)\n",
    "2. Location of an Apartment (Classfication)\n",
    "3. Using the Description column to gauge NLP\n",
    "\n",
    "Feature Columns that should be dropped due to lack of correlation or irrelevance for Regression and Classification \n",
    "\n",
    "1. Description\n",
    "2. Specific Location\n",
    "3. Location Bed\n",
    "4. Serviced price or New price"
   ]
  },
  {
   "cell_type": "markdown",
   "metadata": {},
   "source": [
    "# Preprocessing \n",
    "\n"
   ]
  },
  {
   "cell_type": "code",
   "execution_count": 11,
   "metadata": {},
   "outputs": [],
   "source": [
    "hs_d.drop(['locationbed', 'spec_location', 'description', 'serviced_price'], axis = 1, inplace = True)"
   ]
  },
  {
   "cell_type": "code",
   "execution_count": 12,
   "metadata": {},
   "outputs": [],
   "source": [
    "from sklearn.preprocessing import LabelEncoder\n",
    "\n",
    "lbl = LabelEncoder()\n",
    "\n",
    "hs_d.location = lbl.fit_transform(hs_d.location)"
   ]
  },
  {
   "cell_type": "code",
   "execution_count": 13,
   "metadata": {},
   "outputs": [],
   "source": [
    "from sklearn.preprocessing import StandardScaler\n",
    "\n",
    "scl = StandardScaler()\n",
    "\n",
    "s_hsd = pd.DataFrame( scl.fit_transform(hs_d), columns = hs_d.columns)"
   ]
  },
  {
   "cell_type": "markdown",
   "metadata": {},
   "source": [
    "\n",
    "# Prediction Model "
   ]
  },
  {
   "cell_type": "code",
   "execution_count": 14,
   "metadata": {},
   "outputs": [],
   "source": [
    "X = s_hsd.drop(['price'], axis = 1)\n",
    "y = s_hsd['price']\n",
    "#y = np.array(s_hsd['price']).reshape(-1,1)"
   ]
  },
  {
   "cell_type": "code",
   "execution_count": null,
   "metadata": {},
   "outputs": [],
   "source": []
  },
  {
   "cell_type": "code",
   "execution_count": 15,
   "metadata": {},
   "outputs": [],
   "source": [
    "from sklearn.model_selection import train_test_split\n",
    "\n",
    "x_train, x_test, y_train, y_test = train_test_split(X, y, test_size = 0.3, random_state = 100)"
   ]
  },
  {
   "cell_type": "code",
   "execution_count": 16,
   "metadata": {},
   "outputs": [
    {
     "name": "stdout",
     "output_type": "stream",
     "text": [
      "(3063, 12) (1314, 12) (3063,) (1314,)\n"
     ]
    }
   ],
   "source": [
    "print (x_train.shape, x_test.shape, y_train.shape, y_test.shape)"
   ]
  },
  {
   "cell_type": "markdown",
   "metadata": {},
   "source": [
    "# Models to use\n",
    "1. ElasticNET\n",
    "2. Decisions Tree\n",
    "3. RandomForest "
   ]
  },
  {
   "cell_type": "code",
   "execution_count": 17,
   "metadata": {},
   "outputs": [],
   "source": [
    "from sklearn.tree import DecisionTreeRegressor\n",
    "from sklearn.ensemble import RandomForestRegressor\n",
    "from sklearn.model_selection import GridSearchCV\n",
    "from sklearn import metrics\n",
    "from sklearn.linear_model import ElasticNet\n",
    "from sklearn import model_selection\n",
    "from sklearn.pipeline import Pipeline"
   ]
  },
  {
   "cell_type": "code",
   "execution_count": 18,
   "metadata": {},
   "outputs": [],
   "source": [
    "elas = ElasticNet()\n",
    "pipe = Pipeline\n",
    "randf = RandomForestRegressor()\n",
    "dcr = DecisionTreeRegressor()\n",
    "grd = GridSearchCV"
   ]
  },
  {
   "cell_type": "code",
   "execution_count": 19,
   "metadata": {},
   "outputs": [],
   "source": [
    "elas_param = {'alpha' : np.arange(0.01, 0.1, 0.01)}\n",
    "\n",
    "elas_grd = grd(elas, param_grid = elas_param, cv = 10, n_jobs = -1, verbose = True, scoring = 'r2')"
   ]
  },
  {
   "cell_type": "code",
   "execution_count": 20,
   "metadata": {},
   "outputs": [
    {
     "name": "stdout",
     "output_type": "stream",
     "text": [
      "Fitting 10 folds for each of 9 candidates, totalling 90 fits\n"
     ]
    },
    {
     "name": "stderr",
     "output_type": "stream",
     "text": [
      "[Parallel(n_jobs=-1)]: Using backend LokyBackend with 4 concurrent workers.\n",
      "[Parallel(n_jobs=-1)]: Done  56 tasks      | elapsed:    6.4s\n",
      "[Parallel(n_jobs=-1)]: Done  83 out of  90 | elapsed:    6.6s remaining:    0.5s\n",
      "[Parallel(n_jobs=-1)]: Done  90 out of  90 | elapsed:    6.6s finished\n"
     ]
    },
    {
     "data": {
      "text/plain": [
       "GridSearchCV(cv=10, estimator=ElasticNet(), n_jobs=-1,\n",
       "             param_grid={'alpha': array([0.01, 0.02, 0.03, 0.04, 0.05, 0.06, 0.07, 0.08, 0.09])},\n",
       "             scoring='r2', verbose=True)"
      ]
     },
     "execution_count": 20,
     "metadata": {},
     "output_type": "execute_result"
    }
   ],
   "source": [
    "elas_grd.fit(x_train, y_train)"
   ]
  },
  {
   "cell_type": "code",
   "execution_count": 21,
   "metadata": {},
   "outputs": [],
   "source": [
    "randf_param = {'max_depth' : np.arange(100, 500, 50), 'min_samples_leaf': np.arange(10,50,5)}\n",
    "randf_grd = grd(randf, randf_param, cv = 5, n_jobs = -1,verbose = True, scoring = 'r2')"
   ]
  },
  {
   "cell_type": "code",
   "execution_count": 22,
   "metadata": {},
   "outputs": [
    {
     "name": "stdout",
     "output_type": "stream",
     "text": [
      "Fitting 5 folds for each of 64 candidates, totalling 320 fits\n"
     ]
    },
    {
     "name": "stderr",
     "output_type": "stream",
     "text": [
      "[Parallel(n_jobs=-1)]: Using backend LokyBackend with 4 concurrent workers.\n",
      "[Parallel(n_jobs=-1)]: Done  42 tasks      | elapsed:   10.4s\n",
      "[Parallel(n_jobs=-1)]: Done 192 tasks      | elapsed:   35.8s\n",
      "[Parallel(n_jobs=-1)]: Done 320 out of 320 | elapsed:   58.1s finished\n"
     ]
    },
    {
     "data": {
      "text/plain": [
       "GridSearchCV(cv=5, estimator=RandomForestRegressor(), n_jobs=-1,\n",
       "             param_grid={'max_depth': array([100, 150, 200, 250, 300, 350, 400, 450]),\n",
       "                         'min_samples_leaf': array([10, 15, 20, 25, 30, 35, 40, 45])},\n",
       "             scoring='r2', verbose=True)"
      ]
     },
     "execution_count": 22,
     "metadata": {},
     "output_type": "execute_result"
    }
   ],
   "source": [
    "randf_grd.fit(x_train, y_train)"
   ]
  },
  {
   "cell_type": "code",
   "execution_count": 23,
   "metadata": {},
   "outputs": [],
   "source": [
    "dcr_param = {'min_samples_split' : np.arange(1,10,1),'min_samples_leaf': np.arange(10,50,5), 'max_depth' : np.arange(10,50,10)}\n",
    "dcr_grd = grd(dcr, dcr_param,  cv = 5, n_jobs = -1,verbose = True, scoring = 'r2')\n"
   ]
  },
  {
   "cell_type": "code",
   "execution_count": 24,
   "metadata": {},
   "outputs": [
    {
     "name": "stdout",
     "output_type": "stream",
     "text": [
      "Fitting 5 folds for each of 288 candidates, totalling 1440 fits\n"
     ]
    },
    {
     "name": "stderr",
     "output_type": "stream",
     "text": [
      "[Parallel(n_jobs=-1)]: Using backend LokyBackend with 4 concurrent workers.\n",
      "[Parallel(n_jobs=-1)]: Done 128 tasks      | elapsed:    1.8s\n",
      "[Parallel(n_jobs=-1)]: Done 936 tasks      | elapsed:    7.0s\n",
      "[Parallel(n_jobs=-1)]: Done 1440 out of 1440 | elapsed:    9.1s finished\n"
     ]
    },
    {
     "data": {
      "text/plain": [
       "GridSearchCV(cv=5, estimator=DecisionTreeRegressor(), n_jobs=-1,\n",
       "             param_grid={'max_depth': array([10, 20, 30, 40]),\n",
       "                         'min_samples_leaf': array([10, 15, 20, 25, 30, 35, 40, 45]),\n",
       "                         'min_samples_split': array([1, 2, 3, 4, 5, 6, 7, 8, 9])},\n",
       "             scoring='r2', verbose=True)"
      ]
     },
     "execution_count": 24,
     "metadata": {},
     "output_type": "execute_result"
    }
   ],
   "source": [
    "dcr_grd.fit(x_train, y_train)"
   ]
  },
  {
   "cell_type": "code",
   "execution_count": null,
   "metadata": {},
   "outputs": [],
   "source": []
  },
  {
   "cell_type": "code",
   "execution_count": 25,
   "metadata": {},
   "outputs": [
    {
     "name": "stdout",
     "output_type": "stream",
     "text": [
      "rand forest| Mean=0.921948 STD=0.013495\n",
      "elastice net| Mean=0.816061 STD=0.018882\n",
      "decision trees| Mean=0.917857 STD=0.013715\n"
     ]
    }
   ],
   "source": [
    "models = [('rand forest', randf_grd.best_estimator_), ('elastice net', elas_grd.best_estimator_), ('decision trees', dcr_grd.best_estimator_)]\n",
    "outcome = []\n",
    "model_names  = []\n",
    "\n",
    "\n",
    "for model_name, model in models:\n",
    "    k_fold = model_selection.KFold (n_splits = 10, shuffle = True,  random_state = 100)\n",
    "    results = model_selection.cross_val_score(model, x_train, y_train, cv=k_fold, scoring = 'r2')\n",
    "    outcome.append(results)\n",
    "    model_names.append(model_name)\n",
    "    output_message = \"%s| Mean=%f STD=%f\" % (model_name, results.mean(), results.std())\n",
    "    print (output_message)\n"
   ]
  },
  {
   "cell_type": "markdown",
   "metadata": {},
   "source": [
    "# Classification Model"
   ]
  },
  {
   "cell_type": "markdown",
   "metadata": {},
   "source": [
    "# Preprocessing "
   ]
  },
  {
   "cell_type": "code",
   "execution_count": 26,
   "metadata": {},
   "outputs": [],
   "source": [
    "from sklearn.preprocessing import OneHotEncoder"
   ]
  },
  {
   "cell_type": "code",
   "execution_count": 27,
   "metadata": {},
   "outputs": [],
   "source": [
    "#lbl.inverse_transform(s_hsd.location)"
   ]
  },
  {
   "cell_type": "code",
   "execution_count": 28,
   "metadata": {},
   "outputs": [],
   "source": [
    "x1= s_hsd.drop('location', axis = 1)\n",
    "y1= hs_d['location']"
   ]
  },
  {
   "cell_type": "code",
   "execution_count": null,
   "metadata": {},
   "outputs": [],
   "source": []
  },
  {
   "cell_type": "markdown",
   "metadata": {},
   "source": [
    "# Models to use\n",
    "\n",
    "1. RandomForestClasssfier\n",
    "2. K Nearest Nieghbours\n",
    "3. Decison trees Classsifer\n",
    "4. Extra tree classifier \n"
   ]
  },
  {
   "cell_type": "code",
   "execution_count": 29,
   "metadata": {},
   "outputs": [],
   "source": [
    "from sklearn.tree import DecisionTreeClassifier, ExtraTreeClassifier\n",
    "from sklearn.ensemble import RandomForestClassifier\n",
    "from sklearn.neighbors import KNeighborsClassifier\n",
    "from sklearn.metrics import confusion_matrix, classification_report"
   ]
  },
  {
   "cell_type": "code",
   "execution_count": 43,
   "metadata": {},
   "outputs": [],
   "source": [
    "dcc = DecisionTreeClassifier(random_state = 100)\n",
    "extr = ExtraTreeClassifier(random_state = 100)\n",
    "knn = KNeighborsClassifier()\n",
    "ranfc = RandomForestClassifier(random_state = 100)"
   ]
  },
  {
   "cell_type": "code",
   "execution_count": 31,
   "metadata": {},
   "outputs": [],
   "source": [
    "x_tr, x_te, y_tr, y_te = train_test_split(x1, y1, test_size = 0.3, random_state = 100)"
   ]
  },
  {
   "cell_type": "code",
   "execution_count": 53,
   "metadata": {},
   "outputs": [
    {
     "name": "stdout",
     "output_type": "stream",
     "text": [
      " Decison Tree Classifier  0.9586769073082886\n",
      " Extra Tree Classifier  0.934637356142425\n",
      " K Nearest  0.6855793743392173\n",
      " Random Forest Classifier  0.9531455841638886\n"
     ]
    }
   ],
   "source": [
    "import sklearn\n",
    "class_outcome = []\n",
    "class_model_names= []\n",
    "\n",
    "class_models = [('Decison Tree Classifier', dcc), ('Extra Tree Classifier', extr), ('K Nearest', knn), ('Random Forest Classifier', ranfc)]\n",
    "\n",
    "\n",
    "for model_name, model in class_models:\n",
    "    k_fold = sklearn.model_selection.KFold (n_splits = 10, shuffle = True , random_state = 100)\n",
    "    results = sklearn.model_selection.cross_val_score(model, x1, y1, cv = k_fold, scoring = 'f1_macro')\n",
    "    class_outcome.append(results)\n",
    "    class_model_names.append(model_name)\n",
    "    \n",
    "    output_message =  ' {}  {}'.format(model_name, results.mean())\n",
    "    print(output_message)"
   ]
  },
  {
   "cell_type": "code",
   "execution_count": 79,
   "metadata": {},
   "outputs": [
    {
     "name": "stdout",
     "output_type": "stream",
     "text": [
      "Fitting 5 folds for each of 500 candidates, totalling 2500 fits\n"
     ]
    },
    {
     "name": "stderr",
     "output_type": "stream",
     "text": [
      "[Parallel(n_jobs=-1)]: Using backend LokyBackend with 4 concurrent workers.\n",
      "[Parallel(n_jobs=-1)]: Done 128 tasks      | elapsed:    2.0s\n",
      "[Parallel(n_jobs=-1)]: Done 920 tasks      | elapsed:    7.4s\n",
      "[Parallel(n_jobs=-1)]: Done 2500 out of 2500 | elapsed:   16.2s finished\n"
     ]
    },
    {
     "data": {
      "text/plain": [
       "GridSearchCV(cv=5, estimator=DecisionTreeClassifier(random_state=100),\n",
       "             n_jobs=-1,\n",
       "             param_grid={'max_depth': array([ 5,  6,  7,  8,  9, 10, 11, 12, 13, 14]),\n",
       "                         'min_samples_leaf': array([0, 1, 2, 3, 4, 5, 6, 7, 8, 9]),\n",
       "                         'min_samples_split': array([0, 2, 4, 6, 8])},\n",
       "             scoring='f1_macro', verbose=True)"
      ]
     },
     "execution_count": 79,
     "metadata": {},
     "output_type": "execute_result"
    }
   ],
   "source": [
    "dcc_param = {'min_samples_split' : np.arange(0,10,2),'min_samples_leaf': np.arange(0,10,1), 'max_depth' : np.arange(5,15,1) }\n",
    "dcc_grd = grd(dcc, dcc_param, cv = 5, n_jobs = -1, verbose = True, scoring = 'f1_macro')\n",
    "\n",
    "dcc_grd.fit(x1, y1)"
   ]
  },
  {
   "cell_type": "code",
   "execution_count": 80,
   "metadata": {},
   "outputs": [
    {
     "data": {
      "text/plain": [
       "DecisionTreeClassifier(max_depth=14, min_samples_leaf=2, min_samples_split=8,\n",
       "                       random_state=100)"
      ]
     },
     "execution_count": 80,
     "metadata": {},
     "output_type": "execute_result"
    }
   ],
   "source": [
    "dcc_grd.best_estimator_"
   ]
  },
  {
   "cell_type": "code",
   "execution_count": 97,
   "metadata": {},
   "outputs": [
    {
     "name": "stdout",
     "output_type": "stream",
     "text": [
      "Fitting 5 folds for each of 300 candidates, totalling 1500 fits\n"
     ]
    },
    {
     "name": "stderr",
     "output_type": "stream",
     "text": [
      "[Parallel(n_jobs=-1)]: Using backend LokyBackend with 4 concurrent workers.\n",
      "[Parallel(n_jobs=-1)]: Done 128 tasks      | elapsed:    1.8s\n",
      "[Parallel(n_jobs=-1)]: Done 1096 tasks      | elapsed:    7.2s\n",
      "[Parallel(n_jobs=-1)]: Done 1500 out of 1500 | elapsed:    8.7s finished\n"
     ]
    },
    {
     "data": {
      "text/plain": [
       "GridSearchCV(cv=5, estimator=ExtraTreeClassifier(random_state=100), n_jobs=-1,\n",
       "             param_grid={'max_depth': array([16, 18, 20, 22, 24]),\n",
       "                         'min_samples_leaf': array([0, 1, 2, 3, 4, 5, 6, 7, 8, 9]),\n",
       "                         'min_samples_split': array([0, 1, 2, 3, 4, 5])},\n",
       "             scoring='f1_macro', verbose=True)"
      ]
     },
     "execution_count": 97,
     "metadata": {},
     "output_type": "execute_result"
    }
   ],
   "source": [
    "extr_params = {'min_samples_split' : np.arange(0,6,1),'min_samples_leaf': np.arange(0,10,1), 'max_depth' : np.arange(16,26,2)}\n",
    "extr_grd = grd(extr, extr_params, cv = 5, n_jobs = -1, verbose = True, scoring = 'f1_macro')\n",
    "\n",
    "extr_grd.fit(x1, y1)"
   ]
  },
  {
   "cell_type": "code",
   "execution_count": 98,
   "metadata": {},
   "outputs": [
    {
     "data": {
      "text/plain": [
       "ExtraTreeClassifier(max_depth=20, min_samples_split=3, random_state=100)"
      ]
     },
     "execution_count": 98,
     "metadata": {},
     "output_type": "execute_result"
    }
   ],
   "source": [
    "extr_grd.best_estimator_"
   ]
  },
  {
   "cell_type": "code",
   "execution_count": 109,
   "metadata": {},
   "outputs": [
    {
     "name": "stdout",
     "output_type": "stream",
     "text": [
      "Fitting 5 folds for each of 18 candidates, totalling 90 fits\n"
     ]
    },
    {
     "name": "stderr",
     "output_type": "stream",
     "text": [
      "[Parallel(n_jobs=-1)]: Using backend LokyBackend with 4 concurrent workers.\n",
      "[Parallel(n_jobs=-1)]: Done  42 tasks      | elapsed:    3.4s\n",
      "[Parallel(n_jobs=-1)]: Done  90 out of  90 | elapsed:    5.5s finished\n"
     ]
    },
    {
     "data": {
      "text/plain": [
       "GridSearchCV(cv=5, estimator=KNeighborsClassifier(), n_jobs=-1,\n",
       "             param_grid={'n_neighbors': array([1, 2, 3, 4, 5, 6, 7, 8, 9]),\n",
       "                         'weights': ['uniform', 'distance']},\n",
       "             scoring='f1_macro', verbose=True)"
      ]
     },
     "execution_count": 109,
     "metadata": {},
     "output_type": "execute_result"
    }
   ],
   "source": [
    "knn_params = {'n_neighbors' : np.arange(1,10,1), 'weights' : ['uniform', 'distance']}\n",
    "knn_grd = grd(knn, knn_params, cv = 5, n_jobs = -1, verbose = True, scoring = 'f1_macro')\n",
    "\n",
    "knn_grd.fit(x1, y1)"
   ]
  },
  {
   "cell_type": "code",
   "execution_count": 104,
   "metadata": {},
   "outputs": [
    {
     "name": "stdout",
     "output_type": "stream",
     "text": [
      "              precision    recall  f1-score   support\n",
      "\n",
      "        ajah     0.8314    0.8563    0.8437       167\n",
      "     gbagada     0.8140    0.8537    0.8333        82\n",
      "       ikeja     0.8941    0.6909    0.7795       110\n",
      "     ikorodu     0.9118    0.8378    0.8732        37\n",
      "       ikoyi     0.9206    0.9355    0.9280        62\n",
      "  iyanaipaja     0.5000    0.1250    0.2000         8\n",
      "       lekki     0.9468    0.9858    0.9659       632\n",
      "        ogba     0.8070    0.9200    0.8598        50\n",
      "    surulere     0.7708    0.5781    0.6607        64\n",
      "        yaba     0.7339    0.7843    0.7583       102\n",
      "\n",
      "    accuracy                         0.8866      1314\n",
      "   macro avg     0.8130    0.7567    0.7702      1314\n",
      "weighted avg     0.8841    0.8866    0.8824      1314\n",
      "\n"
     ]
    }
   ],
   "source": [
    "y_pred = knn_grd.predict(x_te)\n",
    "\n",
    "print(classification_report(y_te, y_pred, digits = 4, target_names= list(lbl.inverse_transform(list(np.arange(0,10,1))))))"
   ]
  },
  {
   "cell_type": "code",
   "execution_count": 110,
   "metadata": {},
   "outputs": [
    {
     "data": {
      "text/plain": [
       "KNeighborsClassifier(n_neighbors=2, weights='distance')"
      ]
     },
     "execution_count": 110,
     "metadata": {},
     "output_type": "execute_result"
    }
   ],
   "source": [
    "knn_grd.best_estimator_"
   ]
  },
  {
   "cell_type": "code",
   "execution_count": 115,
   "metadata": {},
   "outputs": [
    {
     "name": "stdout",
     "output_type": "stream",
     "text": [
      "Fitting 2 folds for each of 800 candidates, totalling 1600 fits\n"
     ]
    },
    {
     "name": "stderr",
     "output_type": "stream",
     "text": [
      "[Parallel(n_jobs=3)]: Using backend LokyBackend with 3 concurrent workers.\n",
      "[Parallel(n_jobs=3)]: Done  82 tasks      | elapsed:    3.7s\n",
      "[Parallel(n_jobs=3)]: Done 382 tasks      | elapsed:   23.7s\n",
      "[Parallel(n_jobs=3)]: Done 900 tasks      | elapsed:   52.0s\n",
      "[Parallel(n_jobs=3)]: Done 1600 out of 1600 | elapsed:  1.6min finished\n"
     ]
    },
    {
     "data": {
      "text/plain": [
       "GridSearchCV(cv=2, estimator=RandomForestClassifier(random_state=100), n_jobs=3,\n",
       "             param_grid={'max_depth': array([20, 30]),\n",
       "                         'min_samples_leaf': array([0, 1, 2, 3, 4, 5, 6, 7, 8, 9]),\n",
       "                         'min_samples_split': array([0, 1, 2, 3, 4, 5, 6, 7, 8, 9]),\n",
       "                         'n_estimators': array([30, 40, 50, 60])},\n",
       "             scoring='f1_macro', verbose=True)"
      ]
     },
     "execution_count": 115,
     "metadata": {},
     "output_type": "execute_result"
    }
   ],
   "source": [
    "ranfc_params =  {'min_samples_split' : np.arange(0,10,1),'min_samples_leaf': np.arange(0,10,1), 'max_depth' : np.arange(20,40,10), 'n_estimators' : np.arange(30,70,10)}\n",
    "ranfc_grd =grd(ranfc, ranfc_params, cv = 2, n_jobs = 3 , verbose = True, scoring = 'f1_macro')\n",
    "\n",
    "ranfc_grd.fit(x1, y1)"
   ]
  },
  {
   "cell_type": "code",
   "execution_count": 116,
   "metadata": {},
   "outputs": [
    {
     "data": {
      "text/plain": [
       "RandomForestClassifier(max_depth=30, min_samples_split=3, n_estimators=40,\n",
       "                       random_state=100)"
      ]
     },
     "execution_count": 116,
     "metadata": {},
     "output_type": "execute_result"
    }
   ],
   "source": [
    "ranfc_grd.best_estimator_"
   ]
  },
  {
   "cell_type": "code",
   "execution_count": 117,
   "metadata": {},
   "outputs": [
    {
     "name": "stdout",
     "output_type": "stream",
     "text": [
      " Decison Tree Classifier  0.9625395453238372\n",
      " Extra Tree Classifier  0.9379588686624192\n",
      " K Nearest  0.8032979726023909\n",
      " Random Forest Classifier  0.9537808125779526\n"
     ]
    }
   ],
   "source": [
    "class_outcome_one = []\n",
    "class_model_names_one = []\n",
    "\n",
    "class_models = [('Decison Tree Classifier', dcc_grd.best_estimator_),\n",
    "                ('Extra Tree Classifier', extr_grd.best_estimator_),\n",
    "                ('K Nearest', knn_grd.best_estimator_),\n",
    "                ('Random Forest Classifier', ranfc_grd.best_estimator_)]\n",
    "\n",
    "\n",
    "for model_name, model in class_models:\n",
    "    k_fold = sklearn.model_selection.KFold (n_splits = 10, shuffle = True , random_state = 100)\n",
    "    results = sklearn.model_selection.cross_val_score(model, x1, y1, cv = k_fold, scoring = 'f1_macro')\n",
    "    class_outcome_one.append(results)\n",
    "    class_model_names_one.append(model_name)\n",
    "    \n",
    "    output_message =  ' {}  {}'.format(model_name, results.mean())\n",
    "    print(output_message)"
   ]
  },
  {
   "cell_type": "markdown",
   "metadata": {},
   "source": [
    "# Working with Piplines"
   ]
  }
 ],
 "metadata": {
  "kernelspec": {
   "display_name": "Python 3",
   "language": "python",
   "name": "python3"
  },
  "language_info": {
   "codemirror_mode": {
    "name": "ipython",
    "version": 3
   },
   "file_extension": ".py",
   "mimetype": "text/x-python",
   "name": "python",
   "nbconvert_exporter": "python",
   "pygments_lexer": "ipython3",
   "version": "3.7.6"
  }
 },
 "nbformat": 4,
 "nbformat_minor": 4
}
