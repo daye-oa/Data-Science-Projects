{
 "cells": [
  {
   "cell_type": "code",
   "execution_count": 1,
   "metadata": {
    "_cell_guid": "b1076dfc-b9ad-4769-8c92-a6c4dae69d19",
    "_uuid": "8f2839f25d086af736a60e9eeb907d3b93b6e0e5",
    "execution": {
     "iopub.execute_input": "2020-10-26T04:03:45.173978Z",
     "iopub.status.busy": "2020-10-26T04:03:45.173120Z",
     "iopub.status.idle": "2020-10-26T04:03:45.183611Z",
     "shell.execute_reply": "2020-10-26T04:03:45.182746Z"
    },
    "papermill": {
     "duration": 0.038164,
     "end_time": "2020-10-26T04:03:45.183749",
     "exception": false,
     "start_time": "2020-10-26T04:03:45.145585",
     "status": "completed"
    },
    "tags": []
   },
   "outputs": [
    {
     "name": "stdout",
     "output_type": "stream",
     "text": [
      "/kaggle/input/covid-19-nlp-text-classification/Corona_NLP_train.csv\n",
      "/kaggle/input/covid-19-nlp-text-classification/Corona_NLP_test.csv\n"
     ]
    }
   ],
   "source": [
    "# This Python 3 environment comes with many helpful analytics libraries installed\n",
    "# It is defined by the kaggle/python Docker image: https://github.com/kaggle/docker-python\n",
    "# For example, here's several helpful packages to load\n",
    "\n",
    "import numpy as np # linear algebra\n",
    "import pandas as pd # data processing, CSV file I/O (e.g. pd.read_csv)\n",
    "\n",
    "# Input data files are available in the read-only \"../input/\" directory\n",
    "# For example, running this (by clicking run or pressing Shift+Enter) will list all files under the input directory\n",
    "\n",
    "import os\n",
    "for dirname, _, filenames in os.walk('/kaggle/input'):\n",
    "    for filename in filenames:\n",
    "        print(os.path.join(dirname, filename))\n",
    "\n",
    "# You can write up to 5GB to the current directory (/kaggle/working/) that gets preserved as output when you create a version using \"Save & Run All\" \n",
    "# You can also write temporary files to /kaggle/temp/, but they won't be saved outside of the current session"
   ]
  },
  {
   "cell_type": "markdown",
   "metadata": {
    "papermill": {
     "duration": 0.018556,
     "end_time": "2020-10-26T04:03:45.221902",
     "exception": false,
     "start_time": "2020-10-26T04:03:45.203346",
     "status": "completed"
    },
    "tags": []
   },
   "source": [
    "# Corona Tweets NLP"
   ]
  },
  {
   "cell_type": "markdown",
   "metadata": {
    "papermill": {
     "duration": 0.019438,
     "end_time": "2020-10-26T04:03:45.262146",
     "exception": false,
     "start_time": "2020-10-26T04:03:45.242708",
     "status": "completed"
    },
    "tags": []
   },
   "source": [
    "## Introduction"
   ]
  },
  {
   "cell_type": "markdown",
   "metadata": {
    "papermill": {
     "duration": 0.018283,
     "end_time": "2020-10-26T04:03:45.299354",
     "exception": false,
     "start_time": "2020-10-26T04:03:45.281071",
     "status": "completed"
    },
    "tags": []
   },
   "source": [
    "The objective of this project is to perform Text Classification on the data. The tweets have been pulled from Twitter and manual tagging has been done then. The objective is to train a model to do sentiment classification of the sentences."
   ]
  },
  {
   "cell_type": "markdown",
   "metadata": {
    "papermill": {
     "duration": 0.018217,
     "end_time": "2020-10-26T04:03:45.336103",
     "exception": false,
     "start_time": "2020-10-26T04:03:45.317886",
     "status": "completed"
    },
    "tags": []
   },
   "source": [
    "## Preprocessing"
   ]
  },
  {
   "cell_type": "code",
   "execution_count": 2,
   "metadata": {
    "_cell_guid": "79c7e3d0-c299-4dcb-8224-4455121ee9b0",
    "_uuid": "d629ff2d2480ee46fbb7e2d37f6b5fab8052498a",
    "execution": {
     "iopub.execute_input": "2020-10-26T04:03:45.380441Z",
     "iopub.status.busy": "2020-10-26T04:03:45.379592Z",
     "iopub.status.idle": "2020-10-26T04:03:45.640284Z",
     "shell.execute_reply": "2020-10-26T04:03:45.639480Z"
    },
    "papermill": {
     "duration": 0.284913,
     "end_time": "2020-10-26T04:03:45.640458",
     "exception": false,
     "start_time": "2020-10-26T04:03:45.355545",
     "status": "completed"
    },
    "tags": []
   },
   "outputs": [],
   "source": [
    "data = pd.read_csv('/kaggle/input/covid-19-nlp-text-classification/Corona_NLP_train.csv', encoding='ISO-8859-1')"
   ]
  },
  {
   "cell_type": "code",
   "execution_count": 3,
   "metadata": {
    "execution": {
     "iopub.execute_input": "2020-10-26T04:03:45.697888Z",
     "iopub.status.busy": "2020-10-26T04:03:45.697095Z",
     "iopub.status.idle": "2020-10-26T04:03:45.708342Z",
     "shell.execute_reply": "2020-10-26T04:03:45.707715Z"
    },
    "papermill": {
     "duration": 0.048931,
     "end_time": "2020-10-26T04:03:45.708489",
     "exception": false,
     "start_time": "2020-10-26T04:03:45.659558",
     "status": "completed"
    },
    "tags": []
   },
   "outputs": [
    {
     "data": {
      "text/html": [
       "<div>\n",
       "<style scoped>\n",
       "    .dataframe tbody tr th:only-of-type {\n",
       "        vertical-align: middle;\n",
       "    }\n",
       "\n",
       "    .dataframe tbody tr th {\n",
       "        vertical-align: top;\n",
       "    }\n",
       "\n",
       "    .dataframe thead th {\n",
       "        text-align: right;\n",
       "    }\n",
       "</style>\n",
       "<table border=\"1\" class=\"dataframe\">\n",
       "  <thead>\n",
       "    <tr style=\"text-align: right;\">\n",
       "      <th></th>\n",
       "      <th>UserName</th>\n",
       "      <th>ScreenName</th>\n",
       "      <th>Location</th>\n",
       "      <th>TweetAt</th>\n",
       "      <th>OriginalTweet</th>\n",
       "      <th>Sentiment</th>\n",
       "    </tr>\n",
       "  </thead>\n",
       "  <tbody>\n",
       "    <tr>\n",
       "      <th>0</th>\n",
       "      <td>3799</td>\n",
       "      <td>48751</td>\n",
       "      <td>London</td>\n",
       "      <td>16-03-2020</td>\n",
       "      <td>@MeNyrbie @Phil_Gahan @Chrisitv https://t.co/i...</td>\n",
       "      <td>Neutral</td>\n",
       "    </tr>\n",
       "    <tr>\n",
       "      <th>1</th>\n",
       "      <td>3800</td>\n",
       "      <td>48752</td>\n",
       "      <td>UK</td>\n",
       "      <td>16-03-2020</td>\n",
       "      <td>advice Talk to your neighbours family to excha...</td>\n",
       "      <td>Positive</td>\n",
       "    </tr>\n",
       "    <tr>\n",
       "      <th>2</th>\n",
       "      <td>3801</td>\n",
       "      <td>48753</td>\n",
       "      <td>Vagabonds</td>\n",
       "      <td>16-03-2020</td>\n",
       "      <td>Coronavirus Australia: Woolworths to give elde...</td>\n",
       "      <td>Positive</td>\n",
       "    </tr>\n",
       "    <tr>\n",
       "      <th>3</th>\n",
       "      <td>3802</td>\n",
       "      <td>48754</td>\n",
       "      <td>NaN</td>\n",
       "      <td>16-03-2020</td>\n",
       "      <td>My food stock is not the only one which is emp...</td>\n",
       "      <td>Positive</td>\n",
       "    </tr>\n",
       "    <tr>\n",
       "      <th>4</th>\n",
       "      <td>3803</td>\n",
       "      <td>48755</td>\n",
       "      <td>NaN</td>\n",
       "      <td>16-03-2020</td>\n",
       "      <td>Me, ready to go at supermarket during the #COV...</td>\n",
       "      <td>Extremely Negative</td>\n",
       "    </tr>\n",
       "  </tbody>\n",
       "</table>\n",
       "</div>"
      ],
      "text/plain": [
       "   UserName  ScreenName   Location     TweetAt  \\\n",
       "0      3799       48751     London  16-03-2020   \n",
       "1      3800       48752         UK  16-03-2020   \n",
       "2      3801       48753  Vagabonds  16-03-2020   \n",
       "3      3802       48754        NaN  16-03-2020   \n",
       "4      3803       48755        NaN  16-03-2020   \n",
       "\n",
       "                                       OriginalTweet           Sentiment  \n",
       "0  @MeNyrbie @Phil_Gahan @Chrisitv https://t.co/i...             Neutral  \n",
       "1  advice Talk to your neighbours family to excha...            Positive  \n",
       "2  Coronavirus Australia: Woolworths to give elde...            Positive  \n",
       "3  My food stock is not the only one which is emp...            Positive  \n",
       "4  Me, ready to go at supermarket during the #COV...  Extremely Negative  "
      ]
     },
     "execution_count": 3,
     "metadata": {},
     "output_type": "execute_result"
    }
   ],
   "source": [
    "data.head()"
   ]
  },
  {
   "cell_type": "markdown",
   "metadata": {
    "papermill": {
     "duration": 0.020682,
     "end_time": "2020-10-26T04:03:45.748931",
     "exception": false,
     "start_time": "2020-10-26T04:03:45.728249",
     "status": "completed"
    },
    "tags": []
   },
   "source": [
    "I will drop some columns because I think have no meaning to the prediction, the columns are:\n",
    " - UserName\n",
    " - ScreenName\n",
    " - Location\n",
    " - TweetAt\n",
    "\n",
    "The columns I will use are:\n",
    " - OriginalTweet as documents\n",
    " - Sentiment as label"
   ]
  },
  {
   "cell_type": "code",
   "execution_count": 4,
   "metadata": {
    "execution": {
     "iopub.execute_input": "2020-10-26T04:03:45.801761Z",
     "iopub.status.busy": "2020-10-26T04:03:45.800815Z",
     "iopub.status.idle": "2020-10-26T04:03:45.804017Z",
     "shell.execute_reply": "2020-10-26T04:03:45.803436Z"
    },
    "papermill": {
     "duration": 0.029432,
     "end_time": "2020-10-26T04:03:45.804145",
     "exception": false,
     "start_time": "2020-10-26T04:03:45.774713",
     "status": "completed"
    },
    "tags": []
   },
   "outputs": [],
   "source": [
    "documents = data['OriginalTweet']\n",
    "labels = data['Sentiment']"
   ]
  },
  {
   "cell_type": "markdown",
   "metadata": {
    "papermill": {
     "duration": 0.019627,
     "end_time": "2020-10-26T04:03:45.843779",
     "exception": false,
     "start_time": "2020-10-26T04:03:45.824152",
     "status": "completed"
    },
    "tags": []
   },
   "source": [
    "## Modeling"
   ]
  },
  {
   "cell_type": "code",
   "execution_count": 5,
   "metadata": {
    "execution": {
     "iopub.execute_input": "2020-10-26T04:03:45.890879Z",
     "iopub.status.busy": "2020-10-26T04:03:45.890023Z",
     "iopub.status.idle": "2020-10-26T04:03:47.940131Z",
     "shell.execute_reply": "2020-10-26T04:03:47.939348Z"
    },
    "papermill": {
     "duration": 2.076649,
     "end_time": "2020-10-26T04:03:47.940255",
     "exception": false,
     "start_time": "2020-10-26T04:03:45.863606",
     "status": "completed"
    },
    "tags": []
   },
   "outputs": [],
   "source": [
    "from spacy.lang.en import STOP_WORDS\n",
    "from sklearn.feature_extraction.text import TfidfVectorizer\n",
    "from sklearn.naive_bayes import MultinomialNB\n",
    "from sklearn.neighbors import KNeighborsClassifier\n",
    "from sklearn.svm import LinearSVC\n",
    "from sklearn.model_selection import KFold, cross_val_score, GridSearchCV\n",
    "from sklearn.pipeline import Pipeline"
   ]
  },
  {
   "cell_type": "markdown",
   "metadata": {
    "papermill": {
     "duration": 0.019661,
     "end_time": "2020-10-26T04:03:47.980239",
     "exception": false,
     "start_time": "2020-10-26T04:03:47.960578",
     "status": "completed"
    },
    "tags": []
   },
   "source": [
    "Because this is a classification kind of problem, I will try to test which classification model would perform the best. Here are some models I consider:\n",
    "- MultinomialNB\n",
    "- KNeighborsClassifier\n",
    "- LinearSVC"
   ]
  },
  {
   "cell_type": "code",
   "execution_count": 6,
   "metadata": {
    "execution": {
     "iopub.execute_input": "2020-10-26T04:03:48.029341Z",
     "iopub.status.busy": "2020-10-26T04:03:48.028502Z",
     "iopub.status.idle": "2020-10-26T04:03:50.369505Z",
     "shell.execute_reply": "2020-10-26T04:03:50.370089Z"
    },
    "papermill": {
     "duration": 2.369821,
     "end_time": "2020-10-26T04:03:50.370274",
     "exception": false,
     "start_time": "2020-10-26T04:03:48.000453",
     "status": "completed"
    },
    "tags": []
   },
   "outputs": [
    {
     "name": "stderr",
     "output_type": "stream",
     "text": [
      "/opt/conda/lib/python3.7/site-packages/sklearn/feature_extraction/text.py:386: UserWarning: Your stop_words may be inconsistent with your preprocessing. Tokenizing the stop words generated tokens ['ll', 've'] not in stop_words.\n",
      "  'stop_words.' % sorted(inconsistent))\n"
     ]
    }
   ],
   "source": [
    "Xt = TfidfVectorizer(stop_words=STOP_WORDS).fit_transform(documents)"
   ]
  },
  {
   "cell_type": "code",
   "execution_count": 7,
   "metadata": {
    "execution": {
     "iopub.execute_input": "2020-10-26T04:03:50.421724Z",
     "iopub.status.busy": "2020-10-26T04:03:50.420915Z",
     "iopub.status.idle": "2020-10-26T04:05:27.535206Z",
     "shell.execute_reply": "2020-10-26T04:05:27.536092Z"
    },
    "papermill": {
     "duration": 97.145147,
     "end_time": "2020-10-26T04:05:27.536324",
     "exception": false,
     "start_time": "2020-10-26T04:03:50.391177",
     "status": "completed"
    },
    "tags": []
   },
   "outputs": [
    {
     "name": "stdout",
     "output_type": "stream",
     "text": [
      "MultinomialNB: 0.222\n",
      "KNN: 0.346\n",
      "SVC: 0.568\n"
     ]
    }
   ],
   "source": [
    "estimators = {\n",
    "    'MultinomialNB': MultinomialNB(),\n",
    "    'KNN': KNeighborsClassifier(),\n",
    "    'SVC': LinearSVC()\n",
    "}\n",
    "\n",
    "for name, est in estimators.items():\n",
    "    kfold = KFold(n_splits=10, shuffle=True, random_state=100)\n",
    "    scores = cross_val_score(estimator=est, X=Xt, y=labels, cv=kfold, scoring='f1_macro')\n",
    "    print('{}: {:.3f}'.format(name, scores.mean()))"
   ]
  },
  {
   "cell_type": "markdown",
   "metadata": {
    "papermill": {
     "duration": 0.021637,
     "end_time": "2020-10-26T04:05:27.580882",
     "exception": false,
     "start_time": "2020-10-26T04:05:27.559245",
     "status": "completed"
    },
    "tags": []
   },
   "source": [
    "The observation shows that SVC performs the best. I will do the hyperparameter tuning in the next section."
   ]
  },
  {
   "cell_type": "markdown",
   "metadata": {
    "papermill": {
     "duration": 0.021817,
     "end_time": "2020-10-26T04:05:27.625544",
     "exception": false,
     "start_time": "2020-10-26T04:05:27.603727",
     "status": "completed"
    },
    "tags": []
   },
   "source": [
    "### Fitting Model"
   ]
  },
  {
   "cell_type": "code",
   "execution_count": 8,
   "metadata": {
    "execution": {
     "iopub.execute_input": "2020-10-26T04:05:27.676228Z",
     "iopub.status.busy": "2020-10-26T04:05:27.675045Z",
     "iopub.status.idle": "2020-10-26T04:05:27.678492Z",
     "shell.execute_reply": "2020-10-26T04:05:27.677726Z"
    },
    "papermill": {
     "duration": 0.031085,
     "end_time": "2020-10-26T04:05:27.678627",
     "exception": false,
     "start_time": "2020-10-26T04:05:27.647542",
     "status": "completed"
    },
    "tags": []
   },
   "outputs": [],
   "source": [
    "from tempfile import mkdtemp"
   ]
  },
  {
   "cell_type": "code",
   "execution_count": 9,
   "metadata": {
    "execution": {
     "iopub.execute_input": "2020-10-26T04:05:27.732295Z",
     "iopub.status.busy": "2020-10-26T04:05:27.731535Z",
     "iopub.status.idle": "2020-10-26T04:06:51.045693Z",
     "shell.execute_reply": "2020-10-26T04:06:51.044822Z"
    },
    "papermill": {
     "duration": 83.344189,
     "end_time": "2020-10-26T04:06:51.045835",
     "exception": false,
     "start_time": "2020-10-26T04:05:27.701646",
     "status": "completed"
    },
    "tags": []
   },
   "outputs": [
    {
     "name": "stderr",
     "output_type": "stream",
     "text": [
      "/opt/conda/lib/python3.7/site-packages/sklearn/feature_extraction/text.py:386: UserWarning: Your stop_words may be inconsistent with your preprocessing. Tokenizing the stop words generated tokens ['ll', 've'] not in stop_words.\n",
      "  'stop_words.' % sorted(inconsistent))\n"
     ]
    },
    {
     "name": "stdout",
     "output_type": "stream",
     "text": [
      "Fitting 5 folds for each of 10 candidates, totalling 50 fits\n"
     ]
    },
    {
     "name": "stderr",
     "output_type": "stream",
     "text": [
      "/opt/conda/lib/python3.7/site-packages/sklearn/pipeline.py:296: UserWarning: Persisting input arguments took 1.56s to run.\n",
      "If this happens often in your code, it can cause performance problems \n",
      "(results will be correct in all cases). \n",
      "The reason for this is probably some large input arguments for a wrapped\n",
      " function (e.g. large strings).\n",
      "THIS IS A JOBLIB ISSUE. If you can, kindly provide the joblib's team with an\n",
      " example so that they can fix the problem.\n",
      "  **fit_params_steps[name])\n",
      "[Parallel(n_jobs=-1)]: Using backend LokyBackend with 4 concurrent workers.\n",
      "[Parallel(n_jobs=-1)]: Done  42 tasks      | elapsed:  1.0min\n",
      "[Parallel(n_jobs=-1)]: Done  50 out of  50 | elapsed:  1.2min finished\n"
     ]
    },
    {
     "data": {
      "text/plain": [
       "Pipeline(memory='/tmp/tmpmq00sbxy',\n",
       "         steps=[('vectorize',\n",
       "                 TfidfVectorizer(stop_words={\"'d\", \"'ll\", \"'m\", \"'re\", \"'s\",\n",
       "                                             \"'ve\", 'a', 'about', 'above',\n",
       "                                             'across', 'after', 'afterwards',\n",
       "                                             'again', 'against', 'all',\n",
       "                                             'almost', 'alone', 'along',\n",
       "                                             'already', 'also', 'although',\n",
       "                                             'always', 'am', 'among', 'amongst',\n",
       "                                             'amount', 'an', 'and', 'another',\n",
       "                                             'any', ...})),\n",
       "                ('classifier',\n",
       "                 GridSearchCV(cv=5, estimator=LinearSVC(), n_jobs=-1,\n",
       "                              param_grid={'C': array([1.        , 1.22222222, 1.44444444, 1.66666667, 1.88888889,\n",
       "       2.11111111, 2.33333333, 2.55555556, 2.77777778, 3.        ])},\n",
       "                              verbose=1))])"
      ]
     },
     "execution_count": 9,
     "metadata": {},
     "output_type": "execute_result"
    }
   ],
   "source": [
    "cachedir = mkdtemp()\n",
    "est = Pipeline([\n",
    "    ('vectorize', TfidfVectorizer(stop_words=STOP_WORDS)),\n",
    "    ('classifier', GridSearchCV(LinearSVC(), param_grid={'C': np.linspace(1, 3, 10)},\n",
    "                               n_jobs=-1, cv=5, verbose=1))\n",
    "], memory=cachedir)\n",
    "est.fit(documents, labels)"
   ]
  },
  {
   "cell_type": "code",
   "execution_count": 10,
   "metadata": {
    "execution": {
     "iopub.execute_input": "2020-10-26T04:06:51.103970Z",
     "iopub.status.busy": "2020-10-26T04:06:51.103138Z",
     "iopub.status.idle": "2020-10-26T04:06:51.107508Z",
     "shell.execute_reply": "2020-10-26T04:06:51.108206Z"
    },
    "papermill": {
     "duration": 0.036883,
     "end_time": "2020-10-26T04:06:51.108396",
     "exception": false,
     "start_time": "2020-10-26T04:06:51.071513",
     "status": "completed"
    },
    "tags": []
   },
   "outputs": [
    {
     "data": {
      "text/plain": [
       "{'C': 1.0}"
      ]
     },
     "execution_count": 10,
     "metadata": {},
     "output_type": "execute_result"
    }
   ],
   "source": [
    "est.named_steps['classifier'].best_params_"
   ]
  },
  {
   "cell_type": "code",
   "execution_count": 11,
   "metadata": {
    "execution": {
     "iopub.execute_input": "2020-10-26T04:06:51.211783Z",
     "iopub.status.busy": "2020-10-26T04:06:51.201023Z",
     "iopub.status.idle": "2020-10-26T04:06:53.303878Z",
     "shell.execute_reply": "2020-10-26T04:06:53.303248Z"
    },
    "papermill": {
     "duration": 2.169521,
     "end_time": "2020-10-26T04:06:53.304007",
     "exception": false,
     "start_time": "2020-10-26T04:06:51.134486",
     "status": "completed"
    },
    "tags": []
   },
   "outputs": [
    {
     "data": {
      "text/plain": [
       "0.9671501810141653"
      ]
     },
     "execution_count": 11,
     "metadata": {},
     "output_type": "execute_result"
    }
   ],
   "source": [
    "est.score(documents, labels)"
   ]
  },
  {
   "cell_type": "markdown",
   "metadata": {
    "papermill": {
     "duration": 0.025812,
     "end_time": "2020-10-26T04:06:53.355997",
     "exception": false,
     "start_time": "2020-10-26T04:06:53.330185",
     "status": "completed"
    },
    "tags": []
   },
   "source": [
    "## Evaluate the Model"
   ]
  },
  {
   "cell_type": "code",
   "execution_count": 12,
   "metadata": {
    "execution": {
     "iopub.execute_input": "2020-10-26T04:06:53.414441Z",
     "iopub.status.busy": "2020-10-26T04:06:53.413644Z",
     "iopub.status.idle": "2020-10-26T04:06:53.459995Z",
     "shell.execute_reply": "2020-10-26T04:06:53.459142Z"
    },
    "papermill": {
     "duration": 0.077962,
     "end_time": "2020-10-26T04:06:53.460126",
     "exception": false,
     "start_time": "2020-10-26T04:06:53.382164",
     "status": "completed"
    },
    "tags": []
   },
   "outputs": [],
   "source": [
    "test_data = pd.read_csv('/kaggle/input/covid-19-nlp-text-classification/Corona_NLP_test.csv', encoding='ISO-8859-1')"
   ]
  },
  {
   "cell_type": "code",
   "execution_count": 13,
   "metadata": {
    "execution": {
     "iopub.execute_input": "2020-10-26T04:06:53.527634Z",
     "iopub.status.busy": "2020-10-26T04:06:53.522288Z",
     "iopub.status.idle": "2020-10-26T04:06:53.532309Z",
     "shell.execute_reply": "2020-10-26T04:06:53.531691Z"
    },
    "papermill": {
     "duration": 0.045998,
     "end_time": "2020-10-26T04:06:53.532479",
     "exception": false,
     "start_time": "2020-10-26T04:06:53.486481",
     "status": "completed"
    },
    "tags": []
   },
   "outputs": [
    {
     "data": {
      "text/html": [
       "<div>\n",
       "<style scoped>\n",
       "    .dataframe tbody tr th:only-of-type {\n",
       "        vertical-align: middle;\n",
       "    }\n",
       "\n",
       "    .dataframe tbody tr th {\n",
       "        vertical-align: top;\n",
       "    }\n",
       "\n",
       "    .dataframe thead th {\n",
       "        text-align: right;\n",
       "    }\n",
       "</style>\n",
       "<table border=\"1\" class=\"dataframe\">\n",
       "  <thead>\n",
       "    <tr style=\"text-align: right;\">\n",
       "      <th></th>\n",
       "      <th>UserName</th>\n",
       "      <th>ScreenName</th>\n",
       "      <th>Location</th>\n",
       "      <th>TweetAt</th>\n",
       "      <th>OriginalTweet</th>\n",
       "      <th>Sentiment</th>\n",
       "    </tr>\n",
       "  </thead>\n",
       "  <tbody>\n",
       "    <tr>\n",
       "      <th>0</th>\n",
       "      <td>1</td>\n",
       "      <td>44953</td>\n",
       "      <td>NYC</td>\n",
       "      <td>02-03-2020</td>\n",
       "      <td>TRENDING: New Yorkers encounter empty supermar...</td>\n",
       "      <td>Extremely Negative</td>\n",
       "    </tr>\n",
       "    <tr>\n",
       "      <th>1</th>\n",
       "      <td>2</td>\n",
       "      <td>44954</td>\n",
       "      <td>Seattle, WA</td>\n",
       "      <td>02-03-2020</td>\n",
       "      <td>When I couldn't find hand sanitizer at Fred Me...</td>\n",
       "      <td>Positive</td>\n",
       "    </tr>\n",
       "    <tr>\n",
       "      <th>2</th>\n",
       "      <td>3</td>\n",
       "      <td>44955</td>\n",
       "      <td>NaN</td>\n",
       "      <td>02-03-2020</td>\n",
       "      <td>Find out how you can protect yourself and love...</td>\n",
       "      <td>Extremely Positive</td>\n",
       "    </tr>\n",
       "    <tr>\n",
       "      <th>3</th>\n",
       "      <td>4</td>\n",
       "      <td>44956</td>\n",
       "      <td>Chicagoland</td>\n",
       "      <td>02-03-2020</td>\n",
       "      <td>#Panic buying hits #NewYork City as anxious sh...</td>\n",
       "      <td>Negative</td>\n",
       "    </tr>\n",
       "    <tr>\n",
       "      <th>4</th>\n",
       "      <td>5</td>\n",
       "      <td>44957</td>\n",
       "      <td>Melbourne, Victoria</td>\n",
       "      <td>03-03-2020</td>\n",
       "      <td>#toiletpaper #dunnypaper #coronavirus #coronav...</td>\n",
       "      <td>Neutral</td>\n",
       "    </tr>\n",
       "  </tbody>\n",
       "</table>\n",
       "</div>"
      ],
      "text/plain": [
       "   UserName  ScreenName             Location     TweetAt  \\\n",
       "0         1       44953                  NYC  02-03-2020   \n",
       "1         2       44954          Seattle, WA  02-03-2020   \n",
       "2         3       44955                  NaN  02-03-2020   \n",
       "3         4       44956          Chicagoland  02-03-2020   \n",
       "4         5       44957  Melbourne, Victoria  03-03-2020   \n",
       "\n",
       "                                       OriginalTweet           Sentiment  \n",
       "0  TRENDING: New Yorkers encounter empty supermar...  Extremely Negative  \n",
       "1  When I couldn't find hand sanitizer at Fred Me...            Positive  \n",
       "2  Find out how you can protect yourself and love...  Extremely Positive  \n",
       "3  #Panic buying hits #NewYork City as anxious sh...            Negative  \n",
       "4  #toiletpaper #dunnypaper #coronavirus #coronav...             Neutral  "
      ]
     },
     "execution_count": 13,
     "metadata": {},
     "output_type": "execute_result"
    }
   ],
   "source": [
    "test_data.head()"
   ]
  },
  {
   "cell_type": "markdown",
   "metadata": {
    "papermill": {
     "duration": 0.0265,
     "end_time": "2020-10-26T04:06:53.586150",
     "exception": false,
     "start_time": "2020-10-26T04:06:53.559650",
     "status": "completed"
    },
    "tags": []
   },
   "source": [
    "The test data has a very similar structure as train data."
   ]
  },
  {
   "cell_type": "code",
   "execution_count": 14,
   "metadata": {
    "execution": {
     "iopub.execute_input": "2020-10-26T04:06:53.647963Z",
     "iopub.status.busy": "2020-10-26T04:06:53.646906Z",
     "iopub.status.idle": "2020-10-26T04:06:53.651273Z",
     "shell.execute_reply": "2020-10-26T04:06:53.650674Z"
    },
    "papermill": {
     "duration": 0.03703,
     "end_time": "2020-10-26T04:06:53.651427",
     "exception": false,
     "start_time": "2020-10-26T04:06:53.614397",
     "status": "completed"
    },
    "tags": []
   },
   "outputs": [],
   "source": [
    "test_documents = test_data['OriginalTweet']\n",
    "test_labels = test_data['Sentiment']"
   ]
  },
  {
   "cell_type": "code",
   "execution_count": 15,
   "metadata": {
    "execution": {
     "iopub.execute_input": "2020-10-26T04:06:53.725192Z",
     "iopub.status.busy": "2020-10-26T04:06:53.714696Z",
     "iopub.status.idle": "2020-10-26T04:06:53.922031Z",
     "shell.execute_reply": "2020-10-26T04:06:53.921158Z"
    },
    "papermill": {
     "duration": 0.24361,
     "end_time": "2020-10-26T04:06:53.922172",
     "exception": false,
     "start_time": "2020-10-26T04:06:53.678562",
     "status": "completed"
    },
    "tags": []
   },
   "outputs": [
    {
     "data": {
      "text/plain": [
       "0.5339652448657188"
      ]
     },
     "execution_count": 15,
     "metadata": {},
     "output_type": "execute_result"
    }
   ],
   "source": [
    "est.score(test_documents, test_labels)"
   ]
  }
 ],
 "metadata": {
  "kernelspec": {
   "display_name": "Python 3",
   "language": "python",
   "name": "python3"
  },
  "language_info": {
   "codemirror_mode": {
    "name": "ipython",
    "version": 3
   },
   "file_extension": ".py",
   "mimetype": "text/x-python",
   "name": "python",
   "nbconvert_exporter": "python",
   "pygments_lexer": "ipython3",
   "version": "3.7.6"
  },
  "papermill": {
   "duration": 194.479466,
   "end_time": "2020-10-26T04:06:54.072307",
   "environment_variables": {},
   "exception": null,
   "input_path": "__notebook__.ipynb",
   "output_path": "__notebook__.ipynb",
   "parameters": {},
   "start_time": "2020-10-26T04:03:39.592841",
   "version": "2.1.0"
  }
 },
 "nbformat": 4,
 "nbformat_minor": 4
}
