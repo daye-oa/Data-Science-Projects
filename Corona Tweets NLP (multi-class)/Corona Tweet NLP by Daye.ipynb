{
 "cells": [
  {
   "cell_type": "code",
   "execution_count": 1,
   "metadata": {},
   "outputs": [],
   "source": [
    "import numpy as np \n",
    "import pandas as pd\n",
    "import matplotlib.pyplot as plt\n",
    "\n",
    "import spacy"
   ]
  },
  {
   "cell_type": "code",
   "execution_count": 2,
   "metadata": {},
   "outputs": [],
   "source": [
    "nlp = spacy.load('en_core_web_sm')"
   ]
  },
  {
   "cell_type": "code",
   "execution_count": 220,
   "metadata": {},
   "outputs": [],
   "source": [
    "from datasets import load_dataset\n",
    "\n"
   ]
  },
  {
   "cell_type": "code",
   "execution_count": 29,
   "metadata": {},
   "outputs": [
    {
     "name": "stderr",
     "output_type": "stream",
     "text": [
      "Using custom data configuration default\n",
      "Reusing dataset csv (C:\\Users\\Omona\\.cache\\huggingface\\datasets\\csv\\default-cc4128f94856b4a8\\0.0.0\\49187751790fa4d820300fd4d0707896e5b941f1a9c644652645b866716a4ac4)\n"
     ]
    }
   ],
   "source": [
    "data= load_dataset ('csv', data_files =[ 'Corona_NLP_train.csv'])"
   ]
  },
  {
   "cell_type": "code",
   "execution_count": 30,
   "metadata": {},
   "outputs": [],
   "source": [
    "data = pd.DataFrame(data['train'])"
   ]
  },
  {
   "cell_type": "code",
   "execution_count": 118,
   "metadata": {},
   "outputs": [
    {
     "data": {
      "text/plain": [
       "b'@MeNyrbie @Phil_Gahan @Chrisitv https://t.co/iFz9FAn2Pa and https://t.co/xX6ghGFzCC and https://t.co/I2NlzdxNo8'"
      ]
     },
     "execution_count": 118,
     "metadata": {},
     "output_type": "execute_result"
    }
   ],
   "source": [
    "data['OriginalTweet'][0]"
   ]
  },
  {
   "cell_type": "code",
   "execution_count": 221,
   "metadata": {},
   "outputs": [],
   "source": [
    "#data_t.to_csv('new_corona_nlp')"
   ]
  },
  {
   "cell_type": "code",
   "execution_count": 23,
   "metadata": {},
   "outputs": [],
   "source": [
    "data_t = pd.read_csv('new_corona_nlp')"
   ]
  },
  {
   "cell_type": "code",
   "execution_count": 24,
   "metadata": {},
   "outputs": [],
   "source": [
    "data_t.drop(columns = ['Unnamed: 0'], inplace = True)"
   ]
  },
  {
   "cell_type": "code",
   "execution_count": 25,
   "metadata": {},
   "outputs": [
    {
     "name": "stdout",
     "output_type": "stream",
     "text": [
      "<class 'pandas.core.frame.DataFrame'>\n",
      "RangeIndex: 37035 entries, 0 to 37034\n",
      "Data columns (total 6 columns):\n",
      " #   Column         Non-Null Count  Dtype \n",
      "---  ------         --------------  ----- \n",
      " 0   UserName       37035 non-null  int64 \n",
      " 1   ScreenName     37035 non-null  int64 \n",
      " 2   Location       29242 non-null  object\n",
      " 3   TweetAt        37035 non-null  object\n",
      " 4   OriginalTweet  37035 non-null  object\n",
      " 5   Sentiment      37035 non-null  object\n",
      "dtypes: int64(2), object(4)\n",
      "memory usage: 1.7+ MB\n"
     ]
    }
   ],
   "source": [
    "data_t.info()"
   ]
  },
  {
   "cell_type": "code",
   "execution_count": 26,
   "metadata": {},
   "outputs": [
    {
     "data": {
      "text/html": [
       "<div>\n",
       "<style scoped>\n",
       "    .dataframe tbody tr th:only-of-type {\n",
       "        vertical-align: middle;\n",
       "    }\n",
       "\n",
       "    .dataframe tbody tr th {\n",
       "        vertical-align: top;\n",
       "    }\n",
       "\n",
       "    .dataframe thead th {\n",
       "        text-align: right;\n",
       "    }\n",
       "</style>\n",
       "<table border=\"1\" class=\"dataframe\">\n",
       "  <thead>\n",
       "    <tr style=\"text-align: right;\">\n",
       "      <th></th>\n",
       "      <th>UserName</th>\n",
       "      <th>ScreenName</th>\n",
       "      <th>Location</th>\n",
       "      <th>TweetAt</th>\n",
       "      <th>OriginalTweet</th>\n",
       "      <th>Sentiment</th>\n",
       "    </tr>\n",
       "  </thead>\n",
       "  <tbody>\n",
       "    <tr>\n",
       "      <th>0</th>\n",
       "      <td>3799</td>\n",
       "      <td>48751</td>\n",
       "      <td>London</td>\n",
       "      <td>16-03-2020</td>\n",
       "      <td>@MeNyrbie @Phil_Gahan @Chrisitv https://t.co/i...</td>\n",
       "      <td>Neutral</td>\n",
       "    </tr>\n",
       "    <tr>\n",
       "      <th>1</th>\n",
       "      <td>3800</td>\n",
       "      <td>48752</td>\n",
       "      <td>UK</td>\n",
       "      <td>16-03-2020</td>\n",
       "      <td>advice Talk to your neighbours family to excha...</td>\n",
       "      <td>Positive</td>\n",
       "    </tr>\n",
       "    <tr>\n",
       "      <th>2</th>\n",
       "      <td>3801</td>\n",
       "      <td>48753</td>\n",
       "      <td>Vagabonds</td>\n",
       "      <td>16-03-2020</td>\n",
       "      <td>Coronavirus Australia: Woolworths to give elde...</td>\n",
       "      <td>Positive</td>\n",
       "    </tr>\n",
       "    <tr>\n",
       "      <th>3</th>\n",
       "      <td>3802</td>\n",
       "      <td>48754</td>\n",
       "      <td>NaN</td>\n",
       "      <td>16-03-2020</td>\n",
       "      <td>My food stock is not the only one which is emp...</td>\n",
       "      <td>Positive</td>\n",
       "    </tr>\n",
       "    <tr>\n",
       "      <th>4</th>\n",
       "      <td>3803</td>\n",
       "      <td>48755</td>\n",
       "      <td>NaN</td>\n",
       "      <td>16-03-2020</td>\n",
       "      <td>Me, ready to go at supermarket during the #COV...</td>\n",
       "      <td>Extremely Negative</td>\n",
       "    </tr>\n",
       "  </tbody>\n",
       "</table>\n",
       "</div>"
      ],
      "text/plain": [
       "   UserName  ScreenName   Location     TweetAt  \\\n",
       "0      3799       48751     London  16-03-2020   \n",
       "1      3800       48752         UK  16-03-2020   \n",
       "2      3801       48753  Vagabonds  16-03-2020   \n",
       "3      3802       48754        NaN  16-03-2020   \n",
       "4      3803       48755        NaN  16-03-2020   \n",
       "\n",
       "                                       OriginalTweet           Sentiment  \n",
       "0  @MeNyrbie @Phil_Gahan @Chrisitv https://t.co/i...             Neutral  \n",
       "1  advice Talk to your neighbours family to excha...            Positive  \n",
       "2  Coronavirus Australia: Woolworths to give elde...            Positive  \n",
       "3  My food stock is not the only one which is emp...            Positive  \n",
       "4  Me, ready to go at supermarket during the #COV...  Extremely Negative  "
      ]
     },
     "execution_count": 26,
     "metadata": {},
     "output_type": "execute_result"
    }
   ],
   "source": [
    "data_t.head()"
   ]
  },
  {
   "cell_type": "code",
   "execution_count": 27,
   "metadata": {},
   "outputs": [],
   "source": [
    "#from pandas_profiling import ProfileReport\n",
    "\n",
    "#report = ProfileReport(data_t)\n",
    "\n",
    "#report.to_file(output = 'report.html')"
   ]
  },
  {
   "cell_type": "code",
   "execution_count": 28,
   "metadata": {},
   "outputs": [],
   "source": [
    "#locaton_empty =  data_t.loc[lambda x: x['Location'] == '']"
   ]
  },
  {
   "cell_type": "code",
   "execution_count": 29,
   "metadata": {},
   "outputs": [],
   "source": [
    "#datat_sorted = data_t.sort_values(['Sentiment'], ascending = False)"
   ]
  },
  {
   "cell_type": "markdown",
   "metadata": {},
   "source": [
    "# Preprocessing\n"
   ]
  },
  {
   "cell_type": "code",
   "execution_count": 30,
   "metadata": {},
   "outputs": [],
   "source": [
    "data_t['OriginalTweet'] = data_t.OriginalTweet.astype('string')"
   ]
  },
  {
   "cell_type": "markdown",
   "metadata": {},
   "source": [
    "# Removing the irrelevant data from each row in the OriginalTweet column"
   ]
  },
  {
   "cell_type": "code",
   "execution_count": 31,
   "metadata": {},
   "outputs": [],
   "source": [
    "extract_url = data_t.OriginalTweet.str.extract(r'(http\\S+|www.\\S+)')"
   ]
  },
  {
   "cell_type": "code",
   "execution_count": 32,
   "metadata": {},
   "outputs": [
    {
     "data": {
      "text/html": [
       "<div>\n",
       "<style scoped>\n",
       "    .dataframe tbody tr th:only-of-type {\n",
       "        vertical-align: middle;\n",
       "    }\n",
       "\n",
       "    .dataframe tbody tr th {\n",
       "        vertical-align: top;\n",
       "    }\n",
       "\n",
       "    .dataframe thead th {\n",
       "        text-align: right;\n",
       "    }\n",
       "</style>\n",
       "<table border=\"1\" class=\"dataframe\">\n",
       "  <thead>\n",
       "    <tr style=\"text-align: right;\">\n",
       "      <th></th>\n",
       "      <th>0</th>\n",
       "    </tr>\n",
       "  </thead>\n",
       "  <tbody>\n",
       "    <tr>\n",
       "      <th>0</th>\n",
       "      <td>https://t.co/iFz9FAn2Pa</td>\n",
       "    </tr>\n",
       "    <tr>\n",
       "      <th>1</th>\n",
       "      <td>&lt;NA&gt;</td>\n",
       "    </tr>\n",
       "    <tr>\n",
       "      <th>2</th>\n",
       "      <td>https://t.co/bInCA9Vp8P'</td>\n",
       "    </tr>\n",
       "    <tr>\n",
       "      <th>3</th>\n",
       "      <td>https://t.co/zrlG0Z520j\"</td>\n",
       "    </tr>\n",
       "    <tr>\n",
       "      <th>4</th>\n",
       "      <td>https://t.co/usmuaLq72n\"</td>\n",
       "    </tr>\n",
       "  </tbody>\n",
       "</table>\n",
       "</div>"
      ],
      "text/plain": [
       "                          0\n",
       "0   https://t.co/iFz9FAn2Pa\n",
       "1                      <NA>\n",
       "2  https://t.co/bInCA9Vp8P'\n",
       "3  https://t.co/zrlG0Z520j\"\n",
       "4  https://t.co/usmuaLq72n\""
      ]
     },
     "execution_count": 32,
     "metadata": {},
     "output_type": "execute_result"
    }
   ],
   "source": [
    "extract_url.head()"
   ]
  },
  {
   "cell_type": "code",
   "execution_count": 33,
   "metadata": {},
   "outputs": [],
   "source": [
    "# removing all urls from each text row\n",
    "\n",
    "data_t['OriginalTweet'] = data_t.OriginalTweet.str.replace('http\\S+|www.\\S+', '', case = False )"
   ]
  },
  {
   "cell_type": "code",
   "execution_count": 34,
   "metadata": {},
   "outputs": [],
   "source": [
    "# reomving all user names, averaging username length at 7 characters\n",
    "\n",
    "data_t['OriginalTweet'] =   data_t.OriginalTweet.str.replace('@.......', '', case = False, regex = True)"
   ]
  },
  {
   "cell_type": "code",
   "execution_count": 35,
   "metadata": {},
   "outputs": [],
   "source": [
    "# looking at the text, there seems to be reoccuring gibberish text\n",
    "# removing exact repetitions\n",
    "\n",
    "gib = ['\\\\n', '\\\\r', '\\\\xc2', '\\\\92', '\\\\x92']\n",
    "\n",
    "for i in gib:\n",
    "    data_t['OriginalTweet'] = data_t.OriginalTweet.str.replace(i,'', case = False, regex = False )"
   ]
  },
  {
   "cell_type": "code",
   "execution_count": 36,
   "metadata": {},
   "outputs": [],
   "source": [
    "# removing pattern repitiions\n",
    "\n",
    "gib_pattern = [\"b'\", 'b\"']\n",
    "\n",
    "for i in gib_pattern:\n",
    "    data_t['OriginalTweet'] = data_t.OriginalTweet.str.replace(i, '', case = False, regex = True)"
   ]
  },
  {
   "cell_type": "markdown",
   "metadata": {},
   "source": [
    "# Removing punctuations and stop words\n",
    "\n",
    "Punctuations"
   ]
  },
  {
   "cell_type": "code",
   "execution_count": 39,
   "metadata": {},
   "outputs": [],
   "source": [
    "def remove_punctuation (text):\n",
    "    import string\n",
    "    \n",
    "    translator =  str.maketrans('','', string.punctuation)\n",
    "    return text.translate(translator)\n",
    "    "
   ]
  },
  {
   "cell_type": "code",
   "execution_count": 40,
   "metadata": {},
   "outputs": [],
   "source": [
    "data_t['OriginalTweet'] = data_t.OriginalTweet.apply(remove_punctuation)"
   ]
  },
  {
   "cell_type": "code",
   "execution_count": 41,
   "metadata": {},
   "outputs": [],
   "source": [
    "from spacy.lang.en import STOP_WORDS"
   ]
  },
  {
   "cell_type": "markdown",
   "metadata": {},
   "source": [
    "Socail media posts have common words or slangs used\n",
    "Adding them to the stop words will reduce the numder of words to be used as feature \n",
    "\n",
    "Eg. lol, @\n"
   ]
  },
  {
   "cell_type": "code",
   "execution_count": 42,
   "metadata": {},
   "outputs": [],
   "source": [
    "#slamg = set('lol', 'lmao','@', '#', '')\n",
    "\n",
    "#STOP_WORDS.union"
   ]
  },
  {
   "cell_type": "markdown",
   "metadata": {},
   "source": [
    "removing stop words and lemmatization "
   ]
  },
  {
   "cell_type": "code",
   "execution_count": 43,
   "metadata": {},
   "outputs": [],
   "source": [
    "def lemmatizer(text):\n",
    "   \n",
    "    return [word.lemma_ for word in nlp(text)]\n",
    "\n",
    "\n",
    "stpw_str = \" \".join(STOP_WORDS)\n",
    "stop_words_lemma = set(word.lemma_ for word in nlp(stpw_str))"
   ]
  },
  {
   "cell_type": "code",
   "execution_count": 44,
   "metadata": {},
   "outputs": [],
   "source": [
    "def stop_words(text):\n",
    "    text1 = lemmatizer(text)\n",
    "    new_text = [word.lower() for word in text1 if word.lower() not in stop_words_lemma]\n",
    "    \n",
    "    return ' '.join(new_text)\n",
    "    "
   ]
  },
  {
   "cell_type": "code",
   "execution_count": 45,
   "metadata": {},
   "outputs": [],
   "source": [
    "# because of the lemmatizer function, this takes quite a while to run\n",
    "\n",
    "data_t['OriginalTweet'] = data_t.OriginalTweet.apply(stop_words)"
   ]
  },
  {
   "cell_type": "code",
   "execution_count": 111,
   "metadata": {},
   "outputs": [],
   "source": [
    "#[ i for i in data_t['OriginalTweet'][0 :100] ]"
   ]
  },
  {
   "cell_type": "code",
   "execution_count": 48,
   "metadata": {},
   "outputs": [],
   "source": [
    "from sklearn.feature_extraction.text import  CountVectorizer \n",
    "\n",
    "count_v = CountVectorizer()\n",
    "\n",
    "count_v.fit(data_t['OriginalTweet'])\n",
    "\n",
    "vocabulary_dic = count_v.vocabulary_.items()"
   ]
  },
  {
   "cell_type": "code",
   "execution_count": 64,
   "metadata": {},
   "outputs": [],
   "source": [
    "count = []\n",
    "vocab = []\n",
    "\n",
    "for k,v in vocabulary_dic:\n",
    "    vocab.append(k)\n",
    "    count.append(v)\n",
    "    \n",
    "vocab_d = pd.Series(count , index = vocab)\n",
    "\n",
    "vocab_d = vocab_d.sort_values(ascending = False)"
   ]
  },
  {
   "cell_type": "code",
   "execution_count": 126,
   "metadata": {},
   "outputs": [
    {
     "data": {
      "text/plain": [
       "'confinementotal'"
      ]
     },
     "execution_count": 126,
     "metadata": {},
     "output_type": "execute_result"
    }
   ],
   "source": [
    "vocab[45]"
   ]
  },
  {
   "cell_type": "code",
   "execution_count": 66,
   "metadata": {},
   "outputs": [
    {
     "data": {
      "text/plain": [
       "<AxesSubplot:>"
      ]
     },
     "execution_count": 66,
     "metadata": {},
     "output_type": "execute_result"
    },
    {
     "data": {
      "image/png": "[encoded data removed]",
      "text/plain": [
       "<Figure size 720x3600 with 1 Axes>"
      ]
     },
     "metadata": {
      "needs_background": "light"
     },
     "output_type": "display_data"
    }
   ],
   "source": [
    "top_vocab = vocab_d.head(20)\n",
    "top_vocab.plot(kind = 'barh', figsize = (10,50))\n"
   ]
  },
  {
   "cell_type": "markdown",
   "metadata": {},
   "source": [
    "\n",
    "\n",
    "\n",
    "\n",
    "\n",
    "\n",
    "\n",
    "\n",
    "# classification prediction bais due to class imbalance\n",
    "\n",
    "when performing classification the imbalace in number of training samples of each class may cause the model to train in favour of the majority class"
   ]
  },
  {
   "cell_type": "code",
   "execution_count": 67,
   "metadata": {},
   "outputs": [
    {
     "data": {
      "text/plain": [
       "(5000, 6)"
      ]
     },
     "execution_count": 67,
     "metadata": {},
     "output_type": "execute_result"
    }
   ],
   "source": [
    "ex_negative_sort = data_t[data_t.Sentiment == 'Extremely Negative'].sample(5000)\n",
    "\n",
    "ex_negative_sort.shape"
   ]
  },
  {
   "cell_type": "code",
   "execution_count": 68,
   "metadata": {},
   "outputs": [
    {
     "data": {
      "text/plain": [
       "(5000, 6)"
      ]
     },
     "execution_count": 68,
     "metadata": {},
     "output_type": "execute_result"
    }
   ],
   "source": [
    "negative_sort = data_t[data_t.Sentiment == 'Negative'].sample(5000)\n",
    "\n",
    "negative_sort.shape"
   ]
  },
  {
   "cell_type": "code",
   "execution_count": 69,
   "metadata": {},
   "outputs": [
    {
     "data": {
      "text/plain": [
       "(5000, 6)"
      ]
     },
     "execution_count": 69,
     "metadata": {},
     "output_type": "execute_result"
    }
   ],
   "source": [
    "neutral_sort = data_t[data_t.Sentiment == 'Neutral'].sample(5000)\n",
    "\n",
    "neutral_sort.shape "
   ]
  },
  {
   "cell_type": "code",
   "execution_count": 70,
   "metadata": {},
   "outputs": [
    {
     "data": {
      "text/plain": [
       "(5000, 6)"
      ]
     },
     "execution_count": 70,
     "metadata": {},
     "output_type": "execute_result"
    }
   ],
   "source": [
    "positive_sort = data_t[data_t.Sentiment == 'Positive'].sample(5000)\n",
    "\n",
    "positive_sort.shape"
   ]
  },
  {
   "cell_type": "code",
   "execution_count": 71,
   "metadata": {},
   "outputs": [
    {
     "data": {
      "text/plain": [
       "(5000, 6)"
      ]
     },
     "execution_count": 71,
     "metadata": {},
     "output_type": "execute_result"
    }
   ],
   "source": [
    "ex_positive_sort = data_t[data_t.Sentiment == 'Extremely Positive'].sample(5000)\n",
    "\n",
    "ex_positive_sort.shape"
   ]
  },
  {
   "cell_type": "code",
   "execution_count": 101,
   "metadata": {},
   "outputs": [],
   "source": [
    "sorted_data = pd.concat([ negative_sort, neutral_sort, ex_positive_sort, ex_negative_sort,positive_sort], ignore_index = True)\n"
   ]
  },
  {
   "cell_type": "code",
   "execution_count": 102,
   "metadata": {},
   "outputs": [
    {
     "data": {
      "text/html": [
       "<div>\n",
       "<style scoped>\n",
       "    .dataframe tbody tr th:only-of-type {\n",
       "        vertical-align: middle;\n",
       "    }\n",
       "\n",
       "    .dataframe tbody tr th {\n",
       "        vertical-align: top;\n",
       "    }\n",
       "\n",
       "    .dataframe thead th {\n",
       "        text-align: right;\n",
       "    }\n",
       "</style>\n",
       "<table border=\"1\" class=\"dataframe\">\n",
       "  <thead>\n",
       "    <tr style=\"text-align: right;\">\n",
       "      <th></th>\n",
       "      <th>UserName</th>\n",
       "      <th>ScreenName</th>\n",
       "      <th>Location</th>\n",
       "      <th>TweetAt</th>\n",
       "      <th>OriginalTweet</th>\n",
       "      <th>Sentiment</th>\n",
       "    </tr>\n",
       "  </thead>\n",
       "  <tbody>\n",
       "    <tr>\n",
       "      <th>0</th>\n",
       "      <td>6835</td>\n",
       "      <td>51787</td>\n",
       "      <td>NaN</td>\n",
       "      <td>18-03-2020</td>\n",
       "      <td>oil price benchmark plummet low price mainly 1...</td>\n",
       "      <td>Negative</td>\n",
       "    </tr>\n",
       "    <tr>\n",
       "      <th>1</th>\n",
       "      <td>15776</td>\n",
       "      <td>60728</td>\n",
       "      <td>NaN</td>\n",
       "      <td>20-03-2020</td>\n",
       "      <td>dge1 s currently medicine shortage result covi...</td>\n",
       "      <td>Negative</td>\n",
       "    </tr>\n",
       "    <tr>\n",
       "      <th>2</th>\n",
       "      <td>29526</td>\n",
       "      <td>74478</td>\n",
       "      <td>5700 Orange, Cypress, CA 90630</td>\n",
       "      <td>01-04-2020</td>\n",
       "      <td>ze   march covid19 case begin rapidly trend up...</td>\n",
       "      <td>Negative</td>\n",
       "    </tr>\n",
       "    <tr>\n",
       "      <th>3</th>\n",
       "      <td>11581</td>\n",
       "      <td>56533</td>\n",
       "      <td>NaN</td>\n",
       "      <td>19-03-2020</td>\n",
       "      <td>-pron- community face challenging time fear co...</td>\n",
       "      <td>Negative</td>\n",
       "    </tr>\n",
       "    <tr>\n",
       "      <th>4</th>\n",
       "      <td>11984</td>\n",
       "      <td>56936</td>\n",
       "      <td>Vancouver, British Columbia</td>\n",
       "      <td>19-03-2020</td>\n",
       "      <td>alberta announce new emergency payment covid19...</td>\n",
       "      <td>Negative</td>\n",
       "    </tr>\n",
       "    <tr>\n",
       "      <th>...</th>\n",
       "      <td>...</td>\n",
       "      <td>...</td>\n",
       "      <td>...</td>\n",
       "      <td>...</td>\n",
       "      <td>...</td>\n",
       "      <td>...</td>\n",
       "    </tr>\n",
       "    <tr>\n",
       "      <th>24995</th>\n",
       "      <td>24297</td>\n",
       "      <td>69249</td>\n",
       "      <td>NaN</td>\n",
       "      <td>25-03-2020</td>\n",
       "      <td>hand sanitizer mask reach mps early morning -p...</td>\n",
       "      <td>Positive</td>\n",
       "    </tr>\n",
       "    <tr>\n",
       "      <th>24996</th>\n",
       "      <td>36589</td>\n",
       "      <td>81541</td>\n",
       "      <td>Kentucky, USA</td>\n",
       "      <td>07-04-2020</td>\n",
       "      <td>socioeconomic status influence consumer experi...</td>\n",
       "      <td>Positive</td>\n",
       "    </tr>\n",
       "    <tr>\n",
       "      <th>24997</th>\n",
       "      <td>26473</td>\n",
       "      <td>71425</td>\n",
       "      <td>NaN</td>\n",
       "      <td>25-03-2020</td>\n",
       "      <td>ontv good question -pron- ready deal covid 19 ...</td>\n",
       "      <td>Positive</td>\n",
       "    </tr>\n",
       "    <tr>\n",
       "      <th>24998</th>\n",
       "      <td>6007</td>\n",
       "      <td>50959</td>\n",
       "      <td>Melbourne</td>\n",
       "      <td>17-03-2020</td>\n",
       "      <td>australian doctor issue urgent plea government...</td>\n",
       "      <td>Positive</td>\n",
       "    </tr>\n",
       "    <tr>\n",
       "      <th>24999</th>\n",
       "      <td>16930</td>\n",
       "      <td>61882</td>\n",
       "      <td>Manhattan, NY</td>\n",
       "      <td>21-03-2020</td>\n",
       "      <td>sound need toilet paper reach new level toilet...</td>\n",
       "      <td>Positive</td>\n",
       "    </tr>\n",
       "  </tbody>\n",
       "</table>\n",
       "<p>25000 rows × 6 columns</p>\n",
       "</div>"
      ],
      "text/plain": [
       "       UserName  ScreenName                        Location     TweetAt  \\\n",
       "0          6835       51787                             NaN  18-03-2020   \n",
       "1         15776       60728                             NaN  20-03-2020   \n",
       "2         29526       74478  5700 Orange, Cypress, CA 90630  01-04-2020   \n",
       "3         11581       56533                             NaN  19-03-2020   \n",
       "4         11984       56936     Vancouver, British Columbia  19-03-2020   \n",
       "...         ...         ...                             ...         ...   \n",
       "24995     24297       69249                             NaN  25-03-2020   \n",
       "24996     36589       81541                   Kentucky, USA  07-04-2020   \n",
       "24997     26473       71425                             NaN  25-03-2020   \n",
       "24998      6007       50959                       Melbourne  17-03-2020   \n",
       "24999     16930       61882                   Manhattan, NY  21-03-2020   \n",
       "\n",
       "                                           OriginalTweet Sentiment  \n",
       "0      oil price benchmark plummet low price mainly 1...  Negative  \n",
       "1      dge1 s currently medicine shortage result covi...  Negative  \n",
       "2      ze   march covid19 case begin rapidly trend up...  Negative  \n",
       "3      -pron- community face challenging time fear co...  Negative  \n",
       "4      alberta announce new emergency payment covid19...  Negative  \n",
       "...                                                  ...       ...  \n",
       "24995  hand sanitizer mask reach mps early morning -p...  Positive  \n",
       "24996  socioeconomic status influence consumer experi...  Positive  \n",
       "24997  ontv good question -pron- ready deal covid 19 ...  Positive  \n",
       "24998  australian doctor issue urgent plea government...  Positive  \n",
       "24999  sound need toilet paper reach new level toilet...  Positive  \n",
       "\n",
       "[25000 rows x 6 columns]"
      ]
     },
     "execution_count": 102,
     "metadata": {},
     "output_type": "execute_result"
    }
   ],
   "source": [
    "sorted_data"
   ]
  },
  {
   "cell_type": "code",
   "execution_count": 103,
   "metadata": {},
   "outputs": [],
   "source": [
    "corpus = sorted_data['OriginalTweet']"
   ]
  },
  {
   "cell_type": "code",
   "execution_count": 104,
   "metadata": {},
   "outputs": [],
   "source": [
    "corpus = [i for i in corpus]"
   ]
  },
  {
   "cell_type": "code",
   "execution_count": 106,
   "metadata": {},
   "outputs": [],
   "source": [
    "label_length = [i for i in sorted_data['Sentiment'].sort_values().value_counts()]"
   ]
  },
  {
   "cell_type": "code",
   "execution_count": 107,
   "metadata": {},
   "outputs": [],
   "source": [
    "label = [i for i in sorted_data['Sentiment'].sort_values().value_counts().index]"
   ]
  },
  {
   "cell_type": "code",
   "execution_count": 108,
   "metadata": {},
   "outputs": [
    {
     "data": {
      "text/plain": [
       "Negative              5000\n",
       "Neutral               5000\n",
       "Extremely Positive    5000\n",
       "Extremely Negative    5000\n",
       "Positive              5000\n",
       "Name: Sentiment, dtype: int64"
      ]
     },
     "execution_count": 108,
     "metadata": {},
     "output_type": "execute_result"
    }
   ],
   "source": [
    "sorted_data['Sentiment'].sort_values().value_counts()"
   ]
  },
  {
   "cell_type": "code",
   "execution_count": 109,
   "metadata": {},
   "outputs": [
    {
     "name": "stdout",
     "output_type": "stream",
     "text": [
      "['Negative', 'Neutral', 'Extremely Positive', 'Extremely Negative', 'Positive']\n"
     ]
    },
    {
     "data": {
      "text/plain": [
       "[5000, 5000, 5000, 5000, 5000]"
      ]
     },
     "execution_count": 109,
     "metadata": {},
     "output_type": "execute_result"
    }
   ],
   "source": [
    "print(label)\n",
    "label_length"
   ]
  },
  {
   "cell_type": "code",
   "execution_count": 110,
   "metadata": {},
   "outputs": [
    {
     "data": {
      "text/plain": [
       "25000"
      ]
     },
     "execution_count": 110,
     "metadata": {},
     "output_type": "execute_result"
    }
   ],
   "source": [
    "labels =[]\n",
    "for i in range(len(label)):\n",
    "    new = [label[i]] * label_length[i]\n",
    "    labels.extend(new)\n",
    "    \n",
    "len(labels)"
   ]
  },
  {
   "cell_type": "code",
   "execution_count": 112,
   "metadata": {},
   "outputs": [],
   "source": [
    "from sklearn.feature_extraction.text import TfidfVectorizer\n",
    "from sklearn.naive_bayes import MultinomialNB\n",
    "from sklearn.pipeline import Pipeline"
   ]
  },
  {
   "cell_type": "code",
   "execution_count": 132,
   "metadata": {},
   "outputs": [],
   "source": [
    "tfidf = TfidfVectorizer ( stop_words = stop_words_lemma, tokenizer = lemmatizer, ngram_range = (2,2))\n",
    "\n",
    "m_nb = MultinomialNB()\n",
    "\n",
    "pipe = Pipeline([('vectoriser', tfidf), \n",
    "                ('classifier', m_nb)])"
   ]
  },
  {
   "cell_type": "code",
   "execution_count": 133,
   "metadata": {},
   "outputs": [],
   "source": [
    "#tfidf?\n",
    "#m_nb?"
   ]
  },
  {
   "cell_type": "code",
   "execution_count": 134,
   "metadata": {},
   "outputs": [
    {
     "name": "stderr",
     "output_type": "stream",
     "text": [
      "C:\\Users\\Omona\\anaconda3\\lib\\site-packages\\sklearn\\feature_extraction\\text.py:386: UserWarning: Your stop_words may be inconsistent with your preprocessing. Tokenizing the stop words generated tokens ['-pron-'] not in stop_words.\n",
      "  'stop_words.' % sorted(inconsistent))\n"
     ]
    },
    {
     "data": {
      "text/plain": [
       "Pipeline(steps=[('vectoriser',\n",
       "                 TfidfVectorizer(ngram_range=(2, 2),\n",
       "                                 stop_words={\"'\", \"'s\", '-PRON-', 'a', 'about',\n",
       "                                             'above', 'across', 'after',\n",
       "                                             'afterwards', 'again', 'against',\n",
       "                                             'all', 'almost', 'alone', 'along',\n",
       "                                             'already', 'also', 'although',\n",
       "                                             'always', 'among', 'amongst',\n",
       "                                             'amount', 'an', 'and', 'another',\n",
       "                                             'any', 'anyhow', 'anyone',\n",
       "                                             'anything', 'anyway', ...},\n",
       "                                 tokenizer=<function lemmatizer at 0x0000008BE7E2D828>)),\n",
       "                ('classifier', MultinomialNB())])"
      ]
     },
     "execution_count": 134,
     "metadata": {},
     "output_type": "execute_result"
    }
   ],
   "source": [
    "pipe.fit(corpus, labels)"
   ]
  },
  {
   "cell_type": "code",
   "execution_count": 135,
   "metadata": {},
   "outputs": [
    {
     "name": "stdout",
     "output_type": "stream",
     "text": [
      "Training accuracy: 0.97904\n"
     ]
    }
   ],
   "source": [
    "print(\"Training accuracy: {}\".format(pipe.score(corpus, labels)))"
   ]
  },
  {
   "cell_type": "code",
   "execution_count": 137,
   "metadata": {},
   "outputs": [],
   "source": [
    "#pipe['vectoriser'].get_feature_names()"
   ]
  },
  {
   "cell_type": "markdown",
   "metadata": {},
   "source": [
    "# Predicting using test data set"
   ]
  },
  {
   "cell_type": "code",
   "execution_count": 141,
   "metadata": {},
   "outputs": [],
   "source": [
    "from sklearn.metrics import recall_score, accuracy_score, precision_score, f1_score, confusion_matrix, classification_report"
   ]
  },
  {
   "cell_type": "code",
   "execution_count": 164,
   "metadata": {},
   "outputs": [],
   "source": [
    "data_test = pd.read_csv('Corona_NLP_test.csv')"
   ]
  },
  {
   "cell_type": "code",
   "execution_count": 181,
   "metadata": {},
   "outputs": [
    {
     "data": {
      "text/html": [
       "<div>\n",
       "<style scoped>\n",
       "    .dataframe tbody tr th:only-of-type {\n",
       "        vertical-align: middle;\n",
       "    }\n",
       "\n",
       "    .dataframe tbody tr th {\n",
       "        vertical-align: top;\n",
       "    }\n",
       "\n",
       "    .dataframe thead th {\n",
       "        text-align: right;\n",
       "    }\n",
       "</style>\n",
       "<table border=\"1\" class=\"dataframe\">\n",
       "  <thead>\n",
       "    <tr style=\"text-align: right;\">\n",
       "      <th></th>\n",
       "      <th>UserName</th>\n",
       "      <th>ScreenName</th>\n",
       "      <th>Location</th>\n",
       "      <th>TweetAt</th>\n",
       "      <th>OriginalTweet</th>\n",
       "      <th>Sentiment</th>\n",
       "    </tr>\n",
       "  </thead>\n",
       "  <tbody>\n",
       "    <tr>\n",
       "      <th>0</th>\n",
       "      <td>1</td>\n",
       "      <td>44953</td>\n",
       "      <td>NYC</td>\n",
       "      <td>02-03-2020</td>\n",
       "      <td>TRENDING New Yorkers encounter empty supermark...</td>\n",
       "      <td>Extremely Negative</td>\n",
       "    </tr>\n",
       "    <tr>\n",
       "      <th>1</th>\n",
       "      <td>2</td>\n",
       "      <td>44954</td>\n",
       "      <td>Seattle, WA</td>\n",
       "      <td>02-03-2020</td>\n",
       "      <td>When I couldnt find hand sanitizer at Fred Mey...</td>\n",
       "      <td>Positive</td>\n",
       "    </tr>\n",
       "    <tr>\n",
       "      <th>2</th>\n",
       "      <td>3</td>\n",
       "      <td>44955</td>\n",
       "      <td>NaN</td>\n",
       "      <td>02-03-2020</td>\n",
       "      <td>Find out how you can protect yourself and love...</td>\n",
       "      <td>Extremely Positive</td>\n",
       "    </tr>\n",
       "    <tr>\n",
       "      <th>3</th>\n",
       "      <td>4</td>\n",
       "      <td>44956</td>\n",
       "      <td>Chicagoland</td>\n",
       "      <td>02-03-2020</td>\n",
       "      <td>Panic buying hits NewYork City as anxious shop...</td>\n",
       "      <td>Negative</td>\n",
       "    </tr>\n",
       "    <tr>\n",
       "      <th>4</th>\n",
       "      <td>5</td>\n",
       "      <td>44957</td>\n",
       "      <td>Melbourne, Victoria</td>\n",
       "      <td>03-03-2020</td>\n",
       "      <td>toiletpaper dunnypaper coronavirus coronavirus...</td>\n",
       "      <td>Neutral</td>\n",
       "    </tr>\n",
       "  </tbody>\n",
       "</table>\n",
       "</div>"
      ],
      "text/plain": [
       "   UserName  ScreenName             Location     TweetAt  \\\n",
       "0         1       44953                  NYC  02-03-2020   \n",
       "1         2       44954          Seattle, WA  02-03-2020   \n",
       "2         3       44955                  NaN  02-03-2020   \n",
       "3         4       44956          Chicagoland  02-03-2020   \n",
       "4         5       44957  Melbourne, Victoria  03-03-2020   \n",
       "\n",
       "                                       OriginalTweet           Sentiment  \n",
       "0  TRENDING New Yorkers encounter empty supermark...  Extremely Negative  \n",
       "1  When I couldnt find hand sanitizer at Fred Mey...            Positive  \n",
       "2  Find out how you can protect yourself and love...  Extremely Positive  \n",
       "3  Panic buying hits NewYork City as anxious shop...            Negative  \n",
       "4  toiletpaper dunnypaper coronavirus coronavirus...             Neutral  "
      ]
     },
     "execution_count": 181,
     "metadata": {},
     "output_type": "execute_result"
    }
   ],
   "source": [
    "data_test.head()"
   ]
  },
  {
   "cell_type": "markdown",
   "metadata": {},
   "source": [
    "# Preprocessing "
   ]
  },
  {
   "cell_type": "code",
   "execution_count": 166,
   "metadata": {},
   "outputs": [],
   "source": [
    "data_test.OriginalTweet = data_test['OriginalTweet'].astype('string')"
   ]
  },
  {
   "cell_type": "code",
   "execution_count": 167,
   "metadata": {},
   "outputs": [],
   "source": [
    "extract_url1 = data_test['OriginalTweet'].str.extract(r'(http\\S+|www.\\S+)')"
   ]
  },
  {
   "cell_type": "code",
   "execution_count": 168,
   "metadata": {},
   "outputs": [],
   "source": [
    "data_test['OriginalTweet'] = data_test.OriginalTweet.str.replace( r'(http\\S+|www.\\S+)', '', case = False, regex = True)"
   ]
  },
  {
   "cell_type": "code",
   "execution_count": 169,
   "metadata": {},
   "outputs": [],
   "source": [
    "data_test['OriginalTweet'] = data_test.OriginalTweet.str.replace('@.......', '', case = False, regex = True)"
   ]
  },
  {
   "cell_type": "code",
   "execution_count": 184,
   "metadata": {},
   "outputs": [],
   "source": [
    "gib_test = ['\\r', '\\n', '\\x92', '\\x85', '\\x96', '\\x92', '\\x95' , '\\xa0', '\\x93' ]\n",
    "\n",
    "for i in gib_test:\n",
    "    data_test['OriginalTweet'] = data_test.OriginalTweet.str.replace (i, '', case = False, regex = False)"
   ]
  },
  {
   "cell_type": "code",
   "execution_count": 187,
   "metadata": {},
   "outputs": [],
   "source": [
    "data_test['OriginalTweet'] = data_test.OriginalTweet.apply(remove_punctuation)"
   ]
  },
  {
   "cell_type": "code",
   "execution_count": 188,
   "metadata": {},
   "outputs": [],
   "source": [
    "data_test['OriginalTweet'] = data_test.OriginalTweet.apply(stop_words)"
   ]
  },
  {
   "cell_type": "code",
   "execution_count": 206,
   "metadata": {},
   "outputs": [],
   "source": [
    "test_corpus = data_test['OriginalTweet'][:50]"
   ]
  },
  {
   "cell_type": "code",
   "execution_count": 207,
   "metadata": {},
   "outputs": [],
   "source": [
    "test_corpus = [i for i in test_corpus]\n",
    "\n"
   ]
  },
  {
   "cell_type": "code",
   "execution_count": 190,
   "metadata": {},
   "outputs": [],
   "source": [
    "#[i for i in data_test['OriginalTweet']]"
   ]
  },
  {
   "cell_type": "code",
   "execution_count": 208,
   "metadata": {},
   "outputs": [
    {
     "data": {
      "text/plain": [
       "['Negative', 'Neutral', 'Extremely Positive', 'Extremely Negative', 'Positive']"
      ]
     },
     "execution_count": 208,
     "metadata": {},
     "output_type": "execute_result"
    }
   ],
   "source": [
    "label"
   ]
  },
  {
   "cell_type": "code",
   "execution_count": 209,
   "metadata": {},
   "outputs": [],
   "source": [
    "y_proba = pipe.predict_proba(test_corpus)\n",
    "\n"
   ]
  },
  {
   "cell_type": "code",
   "execution_count": 210,
   "metadata": {},
   "outputs": [
    {
     "name": "stdout",
     "output_type": "stream",
     "text": [
      "trending new yorkers encounter supermarket shelf picture wegmans brooklyn soldout online grocer foodkick maxdelivery coronavirusfeare shopper stock   --> Negative at 23.4194%\n",
      "-pron- find hand sanitizer fred meyer -pron- turn amazon 11497 2 pack purellcheck   coronavirus concern drive price --> Negative at 10.5858%\n",
      "find -pron- protect -pron- love coronavirus --> Neutral at 60.877%\n",
      "panic buying hit newyork city anxious shopper stock foodampmedical supply healthcare worker -pron- 30 bigapple 1st confirm coronavirus patient bloomberg stage eventqanon qanon2018 qanon2020 election2020 cdc --> Negative at 23.1762%\n",
      "toiletpaper dunnypaper coronavirus coronavirusaustralia coronavirusupdate covid19 9news   corvid19 7newsmelb dunnypapergate costco     week buy baby milk powder buy toilet paper --> Negative at 28.9123%\n",
      "-pron- remember time -pron- pay 299 gallon regular gas los angelesprices pump look coronavirus impact price 4 p.m. abc7 --> Negative at 15.9724%\n",
      "vote age coronavirus   hand sanitizer   supertuesday --> Negative at 7.20359%\n",
      "s -pron- stop covid19 protect healthworkersprice surgical mask increase sixfold n95 respirator treble amp gown cost twice muchs coronavirus --> Negative at 27.9545%\n",
      "hi twitter -pron- pharmacist -pron- sell hand sanitizer living -pron- exist like mask -pron- sell fuck you worried soap you visit pharmacy look bottle pharmacy sick people --> Negative at 16.8633%\n",
      "supermarket day -pron- normal shop night amp sight greet -pron- barmy btw s special tinned tomato   covid19 dublin --> Negative at 26.4223%\n",
      "good quality couch unbelievably low price available orderwe boksburg gp info whatsapp084 764 8086supertuesdsy powertalk covid19 sayentrepreneur djsbu --> Negative at 20.5862%\n",
      "beware counterfeit try sell fake mask cheap price let defeat coronavirus threat covid19 collectively besafe beacascader coronavirusreachesdelhi coronavirusindia   --> Negative at 28.4191%\n",
      "panic food buying germany coronavirus begin   organic leave hamsterkaufpanic buying hamster purchaseshamsterkäufe german way hamster stuff -pron- cheek food   --> Negative at 21.0763%\n",
      "covid19 grocery store turn clean supply buy fear coronavirusmy daughter substitute teacher -pron- class hand sanitizer -pron- need buy 100 alcohol wish -pron- luck store -pron- --> Negative at 10.4246%\n",
      "-pron- busy watch election return brace covid19 outbreak trump nominate chemicalindustry lobbyist head consumer product safety commission --> Negative at 15.9417%\n",
      "airsewa ejet provide webchecin customer free seatspassenger force choose pay seat free seat available airport counter stop -pron- discriminatory traveller right spuri --> Negative at 28.4345%\n",
      "precautionary measure -pron- -pron- respective restaurant hotels comment belowcovid19 coronaviruscovid19 hotel chain enforce precautionary measure issue safety hygiene advisory --> Negative at 14.6065%\n",
      "-pron- stockpile food amp supply buy extra -pron- local food bank family luxury spend -pron- weekly budget eadto   coronavirus --> Negative at 33.3883%\n",
      "s week bit optimistic   probably -pron- month   supply chain recover demand chain nonexistent europe month twospx qqq es nq --> Negative at 23.5548%\n",
      "study coronavirus like covid19 live day hard surface like metal plastic glassour deputy commissioner consumer affairs mary barzee flores -pron- clean gas pumpwatch share --> Negative at 15.94%\n",
      "coronavirus covid19 people start frightened panicshopping shelf turn good sell facemasks amp disinfection liquid sell -pron- sell exorbitant price blockchain cryptonews --> Negative at 27.0008%\n",
      "-pron- think creditdebit good bitcoin -pron- come combat coronaviru mind contactless transaction   people -pron- grocery store gas station touch keypad day --> Negative at 15.3286%\n",
      "control stock gold lostgold come nicely loves wallbridge balmoral warn listener coronavirus sprott money ltd recently money ocg genm mmg --> Negative at 18.4603%\n",
      "seller cash -pron- panic sell facemask sanitizer super inflated pricesin reality sanitizer facemask save -pron- coronavirus watch video --> Negative at 26.8495%\n",
      "canadasoilpatch brace impact plunge crude price afteropec -pron- ally fail reach deal aim cut production economy slow becauseof novel coronavirus fool   base -pron- budget hire oil price --> Negative at 35.3681%\n",
      "alright -pron- -pron- hope -pron- melanin prevail case -pron- precaution -pron- food amp water deliver   -pron- -pron- mask month open soon   b1 fba coronavirususa covid --> Negative at 16.1766%\n",
      "-pron- usual grocery shopping ths turn toilet paper fight supermarket aisle yikes toiletpaperpanic coronavirus new level --> Negative at 19.9482%\n",
      "coronavirus panic spread costco pull free sample covid19   usa todaycoronavirus panic spread costco pull free sample covid19usa todayits pandemonium virus panicbuying hit los angelesyahoo newshow costco ha --> Negative at 23.6372%\n",
      "-pron- stock wait quarantine -pron- forget donate   food water toiletry -pron- local food bank help mean stock ahead -pron- -pron- crisis covid19 coronavirus --> Negative at 26.3509%\n",
      "coronavirus exposure hole social safety net nelp government affairs director judy contiui unemployment paidleaveforall --> Negative at 26.8766%\n",
      "important phone number nyer know -pron- doctor insurance think -pron- sick need test coronavirus states helpline 18883643065 report price gouging div consumer protection 18006971220 --> Negative at 29.437%\n",
      "tip pro wrestlers help combat coronavirusbe like spro bring hand sanitizer -pron- match precautionevewrestling tlingeve --> Negative at 10.6621%\n",
      "effectiveis -pron- necessaryor -pron- opticsscare tacticsfor american consumerfor msm useif optic intended effectfearcrash marketgtpanicgtelect bidenqanon coronavirus --> Negative at 20%\n",
      "imho russias rug pull oil price design end dollar global reserve currency corp debt collapse lead high yield fracke compound covid19 mean fed govt respond mmt ciao dollar alt collapse got gold silver --> Negative at 20.6217%\n",
      "brexit gtgt supermarket begin foodratione wave coronavirusfuelled panic buying --> Negative at 40.6018%\n",
      "remember medium deflection story bog roll panicbuye food shortage covid19 irish bridge etc etcweve brexit austerity poverty crash economy amp bad uk govt live memory depressing stuff amp -pron- end --> Negative at 40.7602%\n",
      "fellow uni instructor covid19 f2f class cancelation   inconvenient remember -pron- salary employee maybe callemail hr -pron- union amp demand know hourly worker clerical foodservice custodial etc   compensate campus closure --> Negative at 18.0095%\n",
      "e -pron- food actual heck -pron- news people   -pron- need food water -pron- need paper wipe -pron- sayin   covid19 covid19 coronavirus corona virus panic --> Negative at 32.1118%\n",
      "125 1   soap work sarscov2 coronavirus virus -pron- selfassembled nanoparticle weak link lipid fatty bilayer thread soap virus supramolecular chemistry covid19 --> Negative at 16.9388%\n",
      "thread stop shame folk stock food personal care product ahead coronavirus covid19 trump -pron- clear -pron- care help -pron- protect -pron- family -pron- way -pron- tiny bit mastery control terrify time --> Neutral at 50.4292%\n",
      "think senior disable amp vet include aldtrump aid package covid19 coronavirus check price antibacterial soap disinfectant safe transportation crowded city bus list enow tlaib --> Negative at 19.8005%\n",
      "far 36 pennsylvanian reach -pron- office report inflate price disinfectant spray liquid soap price gouging like wrong -pron- illegal -pron- email come pricegougingygeneralgov coronavirus --> Negative at 24.8944%\n",
      "global stock market continue -pron- bear run dowjones sampp500 plunge -pron- open monday plunge largely 30 overnight slump crudeoil price persistent concern impact coronavirus global economy --> Negative at 16.8328%\n",
      "scammer advantage fear surround coronavirus tip help -pron- scammer bay   covid2019 --> Negative at 31.7889%\n",
      "-pron- business international market evcanada webinar -pron- navigate today export challenge rise commodity price covid19 virus --> Negative at 18.4067%\n",
      "gig economy earn ppl -pron- immediately process refund 2019 earned income tax credit child tax credit   -pron- borrow 2020 credit cash help end meet normal consumer behavior return coronavirus --> Negative at 20.0581%\n",
      "-pron- instruct insurance company covid19 test free important step help ensure cost barrier stand way people test read   --> Negative at 11.7835%\n",
      "oil price dipping absolutely covid2019 -pron- opec talk collapse saudi feud russia celebrate calm hell weirdos --> Negative at 20.6375%\n",
      "global stock plummet today fear surround covid2019 fall oil price big oneday drop 1991 gulf warlets look major stock index react news base -pron- closing value --> Negative at 27.6856%\n",
      "beginning   global recessioncoronavirus damaging health crisisoil price fall downus stock fall down7 drop morning amp trading haltmigration crisis eu border housingcrisis amp skyrocket rent tenant lose 50 incomeq --> Negative at 18.8724%\n"
     ]
    }
   ],
   "source": [
    "predicted_indices = (y_proba[:, 1] > 0.5).astype(int)\n",
    "\n",
    "for i, index in enumerate(predicted_indices):\n",
    "    print(test_corpus[i], \"--> {} at {:g}%\".format(label[index], 100*y_proba[i, index]))"
   ]
  },
  {
   "cell_type": "code",
   "execution_count": null,
   "metadata": {},
   "outputs": [],
   "source": []
  }
 ],
 "metadata": {
  "kernelspec": {
   "display_name": "Python 3",
   "language": "python",
   "name": "python3"
  },
  "language_info": {
   "codemirror_mode": {
    "name": "ipython",
    "version": 3
   },
   "file_extension": ".py",
   "mimetype": "text/x-python",
   "name": "python",
   "nbconvert_exporter": "python",
   "pygments_lexer": "ipython3",
   "version": "3.7.6"
  }
 },
 "nbformat": 4,
 "nbformat_minor": 4
}
