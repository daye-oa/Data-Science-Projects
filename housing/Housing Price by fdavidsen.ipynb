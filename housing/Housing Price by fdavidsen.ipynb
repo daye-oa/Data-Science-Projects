{
 "cells": [
  {
   "cell_type": "code",
   "execution_count": 1,
   "metadata": {},
   "outputs": [],
   "source": [
    "import numpy as np\n",
    "import pandas as pd\n",
    "import matplotlib.pyplot as plt\n",
    "import seaborn as sns"
   ]
  },
  {
   "cell_type": "code",
   "execution_count": 2,
   "metadata": {},
   "outputs": [
    {
     "data": {
      "text/html": [
       "<div>\n",
       "<style scoped>\n",
       "    .dataframe tbody tr th:only-of-type {\n",
       "        vertical-align: middle;\n",
       "    }\n",
       "\n",
       "    .dataframe tbody tr th {\n",
       "        vertical-align: top;\n",
       "    }\n",
       "\n",
       "    .dataframe thead th {\n",
       "        text-align: right;\n",
       "    }\n",
       "</style>\n",
       "<table border=\"1\" class=\"dataframe\">\n",
       "  <thead>\n",
       "    <tr style=\"text-align: right;\">\n",
       "      <th></th>\n",
       "      <th>price</th>\n",
       "      <th>bedrooms</th>\n",
       "      <th>bathrooms</th>\n",
       "      <th>toilets</th>\n",
       "      <th>estate_flag</th>\n",
       "      <th>terrace_flag</th>\n",
       "      <th>new_flag</th>\n",
       "      <th>serviced_flag</th>\n",
       "      <th>estate_price</th>\n",
       "      <th>serviced_price</th>\n",
       "      <th>location_rank</th>\n",
       "      <th>new_price</th>\n",
       "      <th>exec_flag</th>\n",
       "      <th>locationbed</th>\n",
       "      <th>location</th>\n",
       "      <th>spec_location</th>\n",
       "      <th>description</th>\n",
       "    </tr>\n",
       "  </thead>\n",
       "  <tbody>\n",
       "    <tr>\n",
       "      <th>0</th>\n",
       "      <td>850000.0</td>\n",
       "      <td>3.0</td>\n",
       "      <td>2.0</td>\n",
       "      <td>3.0</td>\n",
       "      <td>0.0</td>\n",
       "      <td>0.0</td>\n",
       "      <td>0.0</td>\n",
       "      <td>0.0</td>\n",
       "      <td>1300000.0</td>\n",
       "      <td>1840000.0</td>\n",
       "      <td>31.0</td>\n",
       "      <td>1840000.0</td>\n",
       "      <td>1.0</td>\n",
       "      <td>gbagada3</td>\n",
       "      <td>gbagada</td>\n",
       "      <td>sosanya soluyi gbagada lagos</td>\n",
       "      <td>3 bedroom Flat / Apartment for rent Sosanya So...</td>\n",
       "    </tr>\n",
       "    <tr>\n",
       "      <th>1</th>\n",
       "      <td>650000.0</td>\n",
       "      <td>1.0</td>\n",
       "      <td>1.0</td>\n",
       "      <td>1.0</td>\n",
       "      <td>1.0</td>\n",
       "      <td>0.0</td>\n",
       "      <td>1.0</td>\n",
       "      <td>1.0</td>\n",
       "      <td>400000.0</td>\n",
       "      <td>560000.0</td>\n",
       "      <td>9.0</td>\n",
       "      <td>560000.0</td>\n",
       "      <td>1.0</td>\n",
       "      <td>gbagada1</td>\n",
       "      <td>gbagada</td>\n",
       "      <td>millenuim ups gbagada lagos</td>\n",
       "      <td>1 bedroom mini flat Mini flat Flat / Apartment...</td>\n",
       "    </tr>\n",
       "    <tr>\n",
       "      <th>2</th>\n",
       "      <td>600000.0</td>\n",
       "      <td>2.0</td>\n",
       "      <td>2.0</td>\n",
       "      <td>2.0</td>\n",
       "      <td>0.0</td>\n",
       "      <td>0.0</td>\n",
       "      <td>0.0</td>\n",
       "      <td>0.0</td>\n",
       "      <td>800000.0</td>\n",
       "      <td>1060000.0</td>\n",
       "      <td>26.0</td>\n",
       "      <td>1060000.0</td>\n",
       "      <td>1.0</td>\n",
       "      <td>gbagada2</td>\n",
       "      <td>gbagada</td>\n",
       "      <td>alapere gbagada lagos</td>\n",
       "      <td>2bed at Alapere, all rooms ensuit ... ...</td>\n",
       "    </tr>\n",
       "  </tbody>\n",
       "</table>\n",
       "</div>"
      ],
      "text/plain": [
       "      price  bedrooms  bathrooms  toilets  estate_flag  terrace_flag  \\\n",
       "0  850000.0       3.0        2.0      3.0          0.0           0.0   \n",
       "1  650000.0       1.0        1.0      1.0          1.0           0.0   \n",
       "2  600000.0       2.0        2.0      2.0          0.0           0.0   \n",
       "\n",
       "   new_flag  serviced_flag  estate_price  serviced_price  location_rank  \\\n",
       "0       0.0            0.0     1300000.0       1840000.0           31.0   \n",
       "1       1.0            1.0      400000.0        560000.0            9.0   \n",
       "2       0.0            0.0      800000.0       1060000.0           26.0   \n",
       "\n",
       "   new_price  exec_flag locationbed location                 spec_location  \\\n",
       "0  1840000.0        1.0    gbagada3  gbagada  sosanya soluyi gbagada lagos   \n",
       "1   560000.0        1.0    gbagada1  gbagada   millenuim ups gbagada lagos   \n",
       "2  1060000.0        1.0    gbagada2  gbagada         alapere gbagada lagos   \n",
       "\n",
       "                                         description  \n",
       "0  3 bedroom Flat / Apartment for rent Sosanya So...  \n",
       "1  1 bedroom mini flat Mini flat Flat / Apartment...  \n",
       "2          2bed at Alapere, all rooms ensuit ... ...  "
      ]
     },
     "execution_count": 2,
     "metadata": {},
     "output_type": "execute_result"
    }
   ],
   "source": [
    "raw_data = pd.read_csv('../Housing_data.csv')\n",
    "raw_data.head(3)"
   ]
  },
  {
   "cell_type": "markdown",
   "metadata": {},
   "source": [
    "# Exploratory Data Analysis"
   ]
  },
  {
   "cell_type": "code",
   "execution_count": 3,
   "metadata": {},
   "outputs": [
    {
     "data": {
      "text/html": [
       "<div>\n",
       "<style scoped>\n",
       "    .dataframe tbody tr th:only-of-type {\n",
       "        vertical-align: middle;\n",
       "    }\n",
       "\n",
       "    .dataframe tbody tr th {\n",
       "        vertical-align: top;\n",
       "    }\n",
       "\n",
       "    .dataframe thead th {\n",
       "        text-align: right;\n",
       "    }\n",
       "</style>\n",
       "<table border=\"1\" class=\"dataframe\">\n",
       "  <thead>\n",
       "    <tr style=\"text-align: right;\">\n",
       "      <th></th>\n",
       "      <th>price</th>\n",
       "      <th>bedrooms</th>\n",
       "      <th>bathrooms</th>\n",
       "      <th>toilets</th>\n",
       "      <th>estate_flag</th>\n",
       "      <th>terrace_flag</th>\n",
       "      <th>new_flag</th>\n",
       "      <th>serviced_flag</th>\n",
       "      <th>estate_price</th>\n",
       "      <th>serviced_price</th>\n",
       "      <th>location_rank</th>\n",
       "      <th>new_price</th>\n",
       "      <th>exec_flag</th>\n",
       "    </tr>\n",
       "  </thead>\n",
       "  <tbody>\n",
       "    <tr>\n",
       "      <th>count</th>\n",
       "      <td>4.377000e+03</td>\n",
       "      <td>4377.000000</td>\n",
       "      <td>4377.000000</td>\n",
       "      <td>4377.000000</td>\n",
       "      <td>4377.000000</td>\n",
       "      <td>4377.000000</td>\n",
       "      <td>4377.000000</td>\n",
       "      <td>4377.000000</td>\n",
       "      <td>4.377000e+03</td>\n",
       "      <td>4.377000e+03</td>\n",
       "      <td>4377.000000</td>\n",
       "      <td>4.377000e+03</td>\n",
       "      <td>4377.000000</td>\n",
       "    </tr>\n",
       "    <tr>\n",
       "      <th>mean</th>\n",
       "      <td>2.204272e+06</td>\n",
       "      <td>2.714645</td>\n",
       "      <td>2.500114</td>\n",
       "      <td>2.980809</td>\n",
       "      <td>0.588302</td>\n",
       "      <td>0.303404</td>\n",
       "      <td>0.534384</td>\n",
       "      <td>0.405529</td>\n",
       "      <td>2.150993e+06</td>\n",
       "      <td>2.898988e+06</td>\n",
       "      <td>35.064428</td>\n",
       "      <td>2.898988e+06</td>\n",
       "      <td>2.110578</td>\n",
       "    </tr>\n",
       "    <tr>\n",
       "      <th>std</th>\n",
       "      <td>1.788746e+06</td>\n",
       "      <td>1.164742</td>\n",
       "      <td>1.437791</td>\n",
       "      <td>1.710703</td>\n",
       "      <td>0.492197</td>\n",
       "      <td>0.459781</td>\n",
       "      <td>0.498873</td>\n",
       "      <td>0.491050</td>\n",
       "      <td>1.575584e+06</td>\n",
       "      <td>2.022732e+06</td>\n",
       "      <td>15.869352</td>\n",
       "      <td>2.022732e+06</td>\n",
       "      <td>1.126229</td>\n",
       "    </tr>\n",
       "    <tr>\n",
       "      <th>min</th>\n",
       "      <td>1.000000e+00</td>\n",
       "      <td>1.000000</td>\n",
       "      <td>0.000000</td>\n",
       "      <td>0.000000</td>\n",
       "      <td>0.000000</td>\n",
       "      <td>0.000000</td>\n",
       "      <td>0.000000</td>\n",
       "      <td>0.000000</td>\n",
       "      <td>1.200000e+05</td>\n",
       "      <td>1.500000e+05</td>\n",
       "      <td>2.000000</td>\n",
       "      <td>1.500000e+05</td>\n",
       "      <td>1.000000</td>\n",
       "    </tr>\n",
       "    <tr>\n",
       "      <th>25%</th>\n",
       "      <td>8.000000e+05</td>\n",
       "      <td>2.000000</td>\n",
       "      <td>1.000000</td>\n",
       "      <td>2.000000</td>\n",
       "      <td>0.000000</td>\n",
       "      <td>0.000000</td>\n",
       "      <td>0.000000</td>\n",
       "      <td>0.000000</td>\n",
       "      <td>8.000000e+05</td>\n",
       "      <td>1.060000e+06</td>\n",
       "      <td>25.000000</td>\n",
       "      <td>1.060000e+06</td>\n",
       "      <td>1.000000</td>\n",
       "    </tr>\n",
       "    <tr>\n",
       "      <th>50%</th>\n",
       "      <td>1.800000e+06</td>\n",
       "      <td>3.000000</td>\n",
       "      <td>3.000000</td>\n",
       "      <td>3.000000</td>\n",
       "      <td>1.000000</td>\n",
       "      <td>0.000000</td>\n",
       "      <td>1.000000</td>\n",
       "      <td>0.000000</td>\n",
       "      <td>1.800000e+06</td>\n",
       "      <td>2.500000e+06</td>\n",
       "      <td>35.000000</td>\n",
       "      <td>2.500000e+06</td>\n",
       "      <td>2.000000</td>\n",
       "    </tr>\n",
       "    <tr>\n",
       "      <th>75%</th>\n",
       "      <td>3.000000e+06</td>\n",
       "      <td>4.000000</td>\n",
       "      <td>4.000000</td>\n",
       "      <td>4.000000</td>\n",
       "      <td>1.000000</td>\n",
       "      <td>1.000000</td>\n",
       "      <td>1.000000</td>\n",
       "      <td>1.000000</td>\n",
       "      <td>3.500000e+06</td>\n",
       "      <td>4.500000e+06</td>\n",
       "      <td>52.000000</td>\n",
       "      <td>4.500000e+06</td>\n",
       "      <td>3.000000</td>\n",
       "    </tr>\n",
       "    <tr>\n",
       "      <th>max</th>\n",
       "      <td>8.000000e+06</td>\n",
       "      <td>5.000000</td>\n",
       "      <td>6.000000</td>\n",
       "      <td>7.000000</td>\n",
       "      <td>1.000000</td>\n",
       "      <td>1.000000</td>\n",
       "      <td>1.000000</td>\n",
       "      <td>1.000000</td>\n",
       "      <td>8.000000e+06</td>\n",
       "      <td>8.000000e+06</td>\n",
       "      <td>67.000000</td>\n",
       "      <td>8.000000e+06</td>\n",
       "      <td>4.000000</td>\n",
       "    </tr>\n",
       "  </tbody>\n",
       "</table>\n",
       "</div>"
      ],
      "text/plain": [
       "              price     bedrooms    bathrooms      toilets  estate_flag  \\\n",
       "count  4.377000e+03  4377.000000  4377.000000  4377.000000  4377.000000   \n",
       "mean   2.204272e+06     2.714645     2.500114     2.980809     0.588302   \n",
       "std    1.788746e+06     1.164742     1.437791     1.710703     0.492197   \n",
       "min    1.000000e+00     1.000000     0.000000     0.000000     0.000000   \n",
       "25%    8.000000e+05     2.000000     1.000000     2.000000     0.000000   \n",
       "50%    1.800000e+06     3.000000     3.000000     3.000000     1.000000   \n",
       "75%    3.000000e+06     4.000000     4.000000     4.000000     1.000000   \n",
       "max    8.000000e+06     5.000000     6.000000     7.000000     1.000000   \n",
       "\n",
       "       terrace_flag     new_flag  serviced_flag  estate_price  serviced_price  \\\n",
       "count   4377.000000  4377.000000    4377.000000  4.377000e+03    4.377000e+03   \n",
       "mean       0.303404     0.534384       0.405529  2.150993e+06    2.898988e+06   \n",
       "std        0.459781     0.498873       0.491050  1.575584e+06    2.022732e+06   \n",
       "min        0.000000     0.000000       0.000000  1.200000e+05    1.500000e+05   \n",
       "25%        0.000000     0.000000       0.000000  8.000000e+05    1.060000e+06   \n",
       "50%        0.000000     1.000000       0.000000  1.800000e+06    2.500000e+06   \n",
       "75%        1.000000     1.000000       1.000000  3.500000e+06    4.500000e+06   \n",
       "max        1.000000     1.000000       1.000000  8.000000e+06    8.000000e+06   \n",
       "\n",
       "       location_rank     new_price    exec_flag  \n",
       "count    4377.000000  4.377000e+03  4377.000000  \n",
       "mean       35.064428  2.898988e+06     2.110578  \n",
       "std        15.869352  2.022732e+06     1.126229  \n",
       "min         2.000000  1.500000e+05     1.000000  \n",
       "25%        25.000000  1.060000e+06     1.000000  \n",
       "50%        35.000000  2.500000e+06     2.000000  \n",
       "75%        52.000000  4.500000e+06     3.000000  \n",
       "max        67.000000  8.000000e+06     4.000000  "
      ]
     },
     "execution_count": 3,
     "metadata": {},
     "output_type": "execute_result"
    }
   ],
   "source": [
    "raw_data.describe()"
   ]
  },
  {
   "cell_type": "code",
   "execution_count": 4,
   "metadata": {},
   "outputs": [
    {
     "name": "stdout",
     "output_type": "stream",
     "text": [
      "<class 'pandas.core.frame.DataFrame'>\n",
      "RangeIndex: 4377 entries, 0 to 4376\n",
      "Data columns (total 17 columns):\n",
      " #   Column          Non-Null Count  Dtype  \n",
      "---  ------          --------------  -----  \n",
      " 0   price           4377 non-null   float64\n",
      " 1   bedrooms        4377 non-null   float64\n",
      " 2   bathrooms       4377 non-null   float64\n",
      " 3   toilets         4377 non-null   float64\n",
      " 4   estate_flag     4377 non-null   float64\n",
      " 5   terrace_flag    4377 non-null   float64\n",
      " 6   new_flag        4377 non-null   float64\n",
      " 7   serviced_flag   4377 non-null   float64\n",
      " 8   estate_price    4377 non-null   float64\n",
      " 9   serviced_price  4377 non-null   float64\n",
      " 10  location_rank   4377 non-null   float64\n",
      " 11  new_price       4377 non-null   float64\n",
      " 12  exec_flag       4377 non-null   float64\n",
      " 13  locationbed     4377 non-null   object \n",
      " 14  location        4377 non-null   object \n",
      " 15  spec_location   4377 non-null   object \n",
      " 16  description     4377 non-null   object \n",
      "dtypes: float64(13), object(4)\n",
      "memory usage: 581.4+ KB\n"
     ]
    }
   ],
   "source": [
    "raw_data.info()"
   ]
  },
  {
   "cell_type": "code",
   "execution_count": 5,
   "metadata": {},
   "outputs": [
    {
     "data": {
      "text/plain": [
       "1.0"
      ]
     },
     "execution_count": 5,
     "metadata": {},
     "output_type": "execute_result"
    }
   ],
   "source": [
    "(raw_data['serviced_price'] == raw_data['new_price']).mean()"
   ]
  },
  {
   "cell_type": "code",
   "execution_count": 6,
   "metadata": {},
   "outputs": [],
   "source": [
    "raw_data.drop(['new_price', 'locationbed', 'location', 'spec_location', 'description'], axis=1, inplace=True)"
   ]
  },
  {
   "cell_type": "code",
   "execution_count": 7,
   "metadata": {},
   "outputs": [
    {
     "data": {
      "text/html": [
       "<div>\n",
       "<style scoped>\n",
       "    .dataframe tbody tr th:only-of-type {\n",
       "        vertical-align: middle;\n",
       "    }\n",
       "\n",
       "    .dataframe tbody tr th {\n",
       "        vertical-align: top;\n",
       "    }\n",
       "\n",
       "    .dataframe thead th {\n",
       "        text-align: right;\n",
       "    }\n",
       "</style>\n",
       "<table border=\"1\" class=\"dataframe\">\n",
       "  <thead>\n",
       "    <tr style=\"text-align: right;\">\n",
       "      <th></th>\n",
       "      <th>price</th>\n",
       "      <th>bedrooms</th>\n",
       "      <th>bathrooms</th>\n",
       "      <th>toilets</th>\n",
       "      <th>estate_flag</th>\n",
       "      <th>terrace_flag</th>\n",
       "      <th>new_flag</th>\n",
       "      <th>serviced_flag</th>\n",
       "      <th>estate_price</th>\n",
       "      <th>serviced_price</th>\n",
       "      <th>location_rank</th>\n",
       "      <th>exec_flag</th>\n",
       "    </tr>\n",
       "  </thead>\n",
       "  <tbody>\n",
       "    <tr>\n",
       "      <th>0</th>\n",
       "      <td>850000.0</td>\n",
       "      <td>3.0</td>\n",
       "      <td>2.0</td>\n",
       "      <td>3.0</td>\n",
       "      <td>0.0</td>\n",
       "      <td>0.0</td>\n",
       "      <td>0.0</td>\n",
       "      <td>0.0</td>\n",
       "      <td>1300000.0</td>\n",
       "      <td>1840000.0</td>\n",
       "      <td>31.0</td>\n",
       "      <td>1.0</td>\n",
       "    </tr>\n",
       "    <tr>\n",
       "      <th>1</th>\n",
       "      <td>650000.0</td>\n",
       "      <td>1.0</td>\n",
       "      <td>1.0</td>\n",
       "      <td>1.0</td>\n",
       "      <td>1.0</td>\n",
       "      <td>0.0</td>\n",
       "      <td>1.0</td>\n",
       "      <td>1.0</td>\n",
       "      <td>400000.0</td>\n",
       "      <td>560000.0</td>\n",
       "      <td>9.0</td>\n",
       "      <td>1.0</td>\n",
       "    </tr>\n",
       "    <tr>\n",
       "      <th>2</th>\n",
       "      <td>600000.0</td>\n",
       "      <td>2.0</td>\n",
       "      <td>2.0</td>\n",
       "      <td>2.0</td>\n",
       "      <td>0.0</td>\n",
       "      <td>0.0</td>\n",
       "      <td>0.0</td>\n",
       "      <td>0.0</td>\n",
       "      <td>800000.0</td>\n",
       "      <td>1060000.0</td>\n",
       "      <td>26.0</td>\n",
       "      <td>1.0</td>\n",
       "    </tr>\n",
       "  </tbody>\n",
       "</table>\n",
       "</div>"
      ],
      "text/plain": [
       "      price  bedrooms  bathrooms  toilets  estate_flag  terrace_flag  \\\n",
       "0  850000.0       3.0        2.0      3.0          0.0           0.0   \n",
       "1  650000.0       1.0        1.0      1.0          1.0           0.0   \n",
       "2  600000.0       2.0        2.0      2.0          0.0           0.0   \n",
       "\n",
       "   new_flag  serviced_flag  estate_price  serviced_price  location_rank  \\\n",
       "0       0.0            0.0     1300000.0       1840000.0           31.0   \n",
       "1       1.0            1.0      400000.0        560000.0            9.0   \n",
       "2       0.0            0.0      800000.0       1060000.0           26.0   \n",
       "\n",
       "   exec_flag  \n",
       "0        1.0  \n",
       "1        1.0  \n",
       "2        1.0  "
      ]
     },
     "execution_count": 7,
     "metadata": {},
     "output_type": "execute_result"
    }
   ],
   "source": [
    "raw_data.head(3)"
   ]
  },
  {
   "cell_type": "code",
   "execution_count": 8,
   "metadata": {},
   "outputs": [
    {
     "data": {
      "text/html": [
       "<div>\n",
       "<style scoped>\n",
       "    .dataframe tbody tr th:only-of-type {\n",
       "        vertical-align: middle;\n",
       "    }\n",
       "\n",
       "    .dataframe tbody tr th {\n",
       "        vertical-align: top;\n",
       "    }\n",
       "\n",
       "    .dataframe thead th {\n",
       "        text-align: right;\n",
       "    }\n",
       "</style>\n",
       "<table border=\"1\" class=\"dataframe\">\n",
       "  <thead>\n",
       "    <tr style=\"text-align: right;\">\n",
       "      <th></th>\n",
       "      <th>price</th>\n",
       "      <th>bedrooms</th>\n",
       "      <th>bathrooms</th>\n",
       "      <th>toilets</th>\n",
       "      <th>estate_flag</th>\n",
       "      <th>terrace_flag</th>\n",
       "      <th>new_flag</th>\n",
       "      <th>serviced_flag</th>\n",
       "      <th>estate_price</th>\n",
       "      <th>serviced_price</th>\n",
       "      <th>location_rank</th>\n",
       "      <th>exec_flag</th>\n",
       "    </tr>\n",
       "  </thead>\n",
       "  <tbody>\n",
       "    <tr>\n",
       "      <th>price</th>\n",
       "      <td>1.000000</td>\n",
       "      <td>0.657021</td>\n",
       "      <td>0.447772</td>\n",
       "      <td>0.461837</td>\n",
       "      <td>0.249855</td>\n",
       "      <td>0.697134</td>\n",
       "      <td>0.163079</td>\n",
       "      <td>0.349731</td>\n",
       "      <td>0.821092</td>\n",
       "      <td>0.816925</td>\n",
       "      <td>0.792509</td>\n",
       "      <td>0.694552</td>\n",
       "    </tr>\n",
       "    <tr>\n",
       "      <th>bedrooms</th>\n",
       "      <td>0.657021</td>\n",
       "      <td>1.000000</td>\n",
       "      <td>0.675825</td>\n",
       "      <td>0.666456</td>\n",
       "      <td>0.011875</td>\n",
       "      <td>0.625976</td>\n",
       "      <td>0.051302</td>\n",
       "      <td>0.071721</td>\n",
       "      <td>0.745899</td>\n",
       "      <td>0.732251</td>\n",
       "      <td>0.829569</td>\n",
       "      <td>0.428395</td>\n",
       "    </tr>\n",
       "    <tr>\n",
       "      <th>bathrooms</th>\n",
       "      <td>0.447772</td>\n",
       "      <td>0.675825</td>\n",
       "      <td>1.000000</td>\n",
       "      <td>0.945059</td>\n",
       "      <td>0.028160</td>\n",
       "      <td>0.426519</td>\n",
       "      <td>0.156822</td>\n",
       "      <td>0.090400</td>\n",
       "      <td>0.504016</td>\n",
       "      <td>0.494629</td>\n",
       "      <td>0.555994</td>\n",
       "      <td>0.284639</td>\n",
       "    </tr>\n",
       "    <tr>\n",
       "      <th>toilets</th>\n",
       "      <td>0.461837</td>\n",
       "      <td>0.666456</td>\n",
       "      <td>0.945059</td>\n",
       "      <td>1.000000</td>\n",
       "      <td>0.041909</td>\n",
       "      <td>0.413571</td>\n",
       "      <td>0.159559</td>\n",
       "      <td>0.135490</td>\n",
       "      <td>0.501710</td>\n",
       "      <td>0.496248</td>\n",
       "      <td>0.566172</td>\n",
       "      <td>0.320637</td>\n",
       "    </tr>\n",
       "    <tr>\n",
       "      <th>estate_flag</th>\n",
       "      <td>0.249855</td>\n",
       "      <td>0.011875</td>\n",
       "      <td>0.028160</td>\n",
       "      <td>0.041909</td>\n",
       "      <td>1.000000</td>\n",
       "      <td>0.156250</td>\n",
       "      <td>0.214016</td>\n",
       "      <td>0.257895</td>\n",
       "      <td>-0.007466</td>\n",
       "      <td>-0.005909</td>\n",
       "      <td>0.005035</td>\n",
       "      <td>0.223545</td>\n",
       "    </tr>\n",
       "    <tr>\n",
       "      <th>terrace_flag</th>\n",
       "      <td>0.697134</td>\n",
       "      <td>0.625976</td>\n",
       "      <td>0.426519</td>\n",
       "      <td>0.413571</td>\n",
       "      <td>0.156250</td>\n",
       "      <td>1.000000</td>\n",
       "      <td>0.128857</td>\n",
       "      <td>0.158359</td>\n",
       "      <td>0.642534</td>\n",
       "      <td>0.622621</td>\n",
       "      <td>0.624647</td>\n",
       "      <td>0.500956</td>\n",
       "    </tr>\n",
       "    <tr>\n",
       "      <th>new_flag</th>\n",
       "      <td>0.163079</td>\n",
       "      <td>0.051302</td>\n",
       "      <td>0.156822</td>\n",
       "      <td>0.159559</td>\n",
       "      <td>0.214016</td>\n",
       "      <td>0.128857</td>\n",
       "      <td>1.000000</td>\n",
       "      <td>0.253236</td>\n",
       "      <td>-0.002975</td>\n",
       "      <td>-0.009811</td>\n",
       "      <td>-0.004003</td>\n",
       "      <td>0.105489</td>\n",
       "    </tr>\n",
       "    <tr>\n",
       "      <th>serviced_flag</th>\n",
       "      <td>0.349731</td>\n",
       "      <td>0.071721</td>\n",
       "      <td>0.090400</td>\n",
       "      <td>0.135490</td>\n",
       "      <td>0.257895</td>\n",
       "      <td>0.158359</td>\n",
       "      <td>0.253236</td>\n",
       "      <td>1.000000</td>\n",
       "      <td>0.169583</td>\n",
       "      <td>0.176223</td>\n",
       "      <td>0.194179</td>\n",
       "      <td>0.373014</td>\n",
       "    </tr>\n",
       "    <tr>\n",
       "      <th>estate_price</th>\n",
       "      <td>0.821092</td>\n",
       "      <td>0.745899</td>\n",
       "      <td>0.504016</td>\n",
       "      <td>0.501710</td>\n",
       "      <td>-0.007466</td>\n",
       "      <td>0.642534</td>\n",
       "      <td>-0.002975</td>\n",
       "      <td>0.169583</td>\n",
       "      <td>1.000000</td>\n",
       "      <td>0.991465</td>\n",
       "      <td>0.934464</td>\n",
       "      <td>0.552332</td>\n",
       "    </tr>\n",
       "    <tr>\n",
       "      <th>serviced_price</th>\n",
       "      <td>0.816925</td>\n",
       "      <td>0.732251</td>\n",
       "      <td>0.494629</td>\n",
       "      <td>0.496248</td>\n",
       "      <td>-0.005909</td>\n",
       "      <td>0.622621</td>\n",
       "      <td>-0.009811</td>\n",
       "      <td>0.176223</td>\n",
       "      <td>0.991465</td>\n",
       "      <td>1.000000</td>\n",
       "      <td>0.938154</td>\n",
       "      <td>0.566417</td>\n",
       "    </tr>\n",
       "    <tr>\n",
       "      <th>location_rank</th>\n",
       "      <td>0.792509</td>\n",
       "      <td>0.829569</td>\n",
       "      <td>0.555994</td>\n",
       "      <td>0.566172</td>\n",
       "      <td>0.005035</td>\n",
       "      <td>0.624647</td>\n",
       "      <td>-0.004003</td>\n",
       "      <td>0.194179</td>\n",
       "      <td>0.934464</td>\n",
       "      <td>0.938154</td>\n",
       "      <td>1.000000</td>\n",
       "      <td>0.615212</td>\n",
       "    </tr>\n",
       "    <tr>\n",
       "      <th>exec_flag</th>\n",
       "      <td>0.694552</td>\n",
       "      <td>0.428395</td>\n",
       "      <td>0.284639</td>\n",
       "      <td>0.320637</td>\n",
       "      <td>0.223545</td>\n",
       "      <td>0.500956</td>\n",
       "      <td>0.105489</td>\n",
       "      <td>0.373014</td>\n",
       "      <td>0.552332</td>\n",
       "      <td>0.566417</td>\n",
       "      <td>0.615212</td>\n",
       "      <td>1.000000</td>\n",
       "    </tr>\n",
       "  </tbody>\n",
       "</table>\n",
       "</div>"
      ],
      "text/plain": [
       "                   price  bedrooms  bathrooms   toilets  estate_flag  \\\n",
       "price           1.000000  0.657021   0.447772  0.461837     0.249855   \n",
       "bedrooms        0.657021  1.000000   0.675825  0.666456     0.011875   \n",
       "bathrooms       0.447772  0.675825   1.000000  0.945059     0.028160   \n",
       "toilets         0.461837  0.666456   0.945059  1.000000     0.041909   \n",
       "estate_flag     0.249855  0.011875   0.028160  0.041909     1.000000   \n",
       "terrace_flag    0.697134  0.625976   0.426519  0.413571     0.156250   \n",
       "new_flag        0.163079  0.051302   0.156822  0.159559     0.214016   \n",
       "serviced_flag   0.349731  0.071721   0.090400  0.135490     0.257895   \n",
       "estate_price    0.821092  0.745899   0.504016  0.501710    -0.007466   \n",
       "serviced_price  0.816925  0.732251   0.494629  0.496248    -0.005909   \n",
       "location_rank   0.792509  0.829569   0.555994  0.566172     0.005035   \n",
       "exec_flag       0.694552  0.428395   0.284639  0.320637     0.223545   \n",
       "\n",
       "                terrace_flag  new_flag  serviced_flag  estate_price  \\\n",
       "price               0.697134  0.163079       0.349731      0.821092   \n",
       "bedrooms            0.625976  0.051302       0.071721      0.745899   \n",
       "bathrooms           0.426519  0.156822       0.090400      0.504016   \n",
       "toilets             0.413571  0.159559       0.135490      0.501710   \n",
       "estate_flag         0.156250  0.214016       0.257895     -0.007466   \n",
       "terrace_flag        1.000000  0.128857       0.158359      0.642534   \n",
       "new_flag            0.128857  1.000000       0.253236     -0.002975   \n",
       "serviced_flag       0.158359  0.253236       1.000000      0.169583   \n",
       "estate_price        0.642534 -0.002975       0.169583      1.000000   \n",
       "serviced_price      0.622621 -0.009811       0.176223      0.991465   \n",
       "location_rank       0.624647 -0.004003       0.194179      0.934464   \n",
       "exec_flag           0.500956  0.105489       0.373014      0.552332   \n",
       "\n",
       "                serviced_price  location_rank  exec_flag  \n",
       "price                 0.816925       0.792509   0.694552  \n",
       "bedrooms              0.732251       0.829569   0.428395  \n",
       "bathrooms             0.494629       0.555994   0.284639  \n",
       "toilets               0.496248       0.566172   0.320637  \n",
       "estate_flag          -0.005909       0.005035   0.223545  \n",
       "terrace_flag          0.622621       0.624647   0.500956  \n",
       "new_flag             -0.009811      -0.004003   0.105489  \n",
       "serviced_flag         0.176223       0.194179   0.373014  \n",
       "estate_price          0.991465       0.934464   0.552332  \n",
       "serviced_price        1.000000       0.938154   0.566417  \n",
       "location_rank         0.938154       1.000000   0.615212  \n",
       "exec_flag             0.566417       0.615212   1.000000  "
      ]
     },
     "execution_count": 8,
     "metadata": {},
     "output_type": "execute_result"
    }
   ],
   "source": [
    "raw_data.corr()"
   ]
  },
  {
   "cell_type": "code",
   "execution_count": 9,
   "metadata": {},
   "outputs": [
    {
     "data": {
      "image/png": "[encoded data removed]",
      "text/plain": [
       "<Figure size 432x288 with 2 Axes>"
      ]
     },
     "metadata": {
      "needs_background": "light"
     },
     "output_type": "display_data"
    }
   ],
   "source": [
    "sns.heatmap(raw_data.corr(), annot=True);"
   ]
  },
  {
   "cell_type": "code",
   "execution_count": 10,
   "metadata": {},
   "outputs": [
    {
     "data": {
      "image/png": "[encoded data removed]",
      "text/plain": [
       "<Figure size 1152x360 with 4 Axes>"
      ]
     },
     "metadata": {
      "needs_background": "light"
     },
     "output_type": "display_data"
    }
   ],
   "source": [
    "sns.pairplot(raw_data, x_vars=['exec_flag', 'price', 'estate_flag', 'new_flag'], y_vars=['serviced_price'], height=5, aspect=0.8, kind='reg');"
   ]
  },
  {
   "cell_type": "code",
   "execution_count": 11,
   "metadata": {},
   "outputs": [
    {
     "data": {
      "image/png": "[encoded data removed]",
      "text/plain": [
       "<Figure size 432x288 with 1 Axes>"
      ]
     },
     "metadata": {
      "needs_background": "light"
     },
     "output_type": "display_data"
    }
   ],
   "source": [
    "plt.hist([raw_data['bedrooms'], raw_data['bathrooms'], raw_data['toilets']])\n",
    "plt.legend(['bedrooms', 'bathrooms', 'toilets'])\n",
    "plt.xlabel('Type of Rooms')\n",
    "plt.ylabel('Counts')\n",
    "plt.show();"
   ]
  },
  {
   "cell_type": "markdown",
   "metadata": {},
   "source": [
    "# Modeling"
   ]
  },
  {
   "cell_type": "code",
   "execution_count": 12,
   "metadata": {},
   "outputs": [],
   "source": [
    "from sklearn.model_selection import train_test_split\n",
    "from sklearn.linear_model import LinearRegression\n",
    "from sklearn.metrics import mean_absolute_error\n",
    "from sklearn.pipeline import Pipeline\n",
    "from sklearn.compose import ColumnTransformer\n",
    "from sklearn.preprocessing import OneHotEncoder"
   ]
  },
  {
   "cell_type": "code",
   "execution_count": 13,
   "metadata": {},
   "outputs": [],
   "source": [
    "X = raw_data.drop('serviced_price', axis=1)\n",
    "y = raw_data['serviced_price']"
   ]
  },
  {
   "cell_type": "code",
   "execution_count": 14,
   "metadata": {},
   "outputs": [],
   "source": [
    "X_train, X_test, y_train, y_test = train_test_split(X, y, test_size=0.1, random_state=0)"
   ]
  },
  {
   "cell_type": "code",
   "execution_count": 15,
   "metadata": {},
   "outputs": [
    {
     "data": {
      "text/plain": [
       "LinearRegression(copy_X=True, fit_intercept=True, n_jobs=None, normalize=False)"
      ]
     },
     "execution_count": 15,
     "metadata": {},
     "output_type": "execute_result"
    }
   ],
   "source": [
    "lin_reg = LinearRegression()\n",
    "lin_reg.fit(X_train, y_train)"
   ]
  },
  {
   "cell_type": "code",
   "execution_count": 16,
   "metadata": {},
   "outputs": [],
   "source": [
    "y_pred = lin_reg.predict(X_test)"
   ]
  },
  {
   "cell_type": "code",
   "execution_count": 17,
   "metadata": {},
   "outputs": [
    {
     "data": {
      "text/plain": [
       "array([ 839300.08256692, 4585694.34414839, 6430942.48624839,\n",
       "       6463666.68293716, 1156996.39489458])"
      ]
     },
     "execution_count": 17,
     "metadata": {},
     "output_type": "execute_result"
    }
   ],
   "source": [
    "y_pred[:5]"
   ]
  },
  {
   "cell_type": "code",
   "execution_count": 18,
   "metadata": {},
   "outputs": [
    {
     "data": {
      "text/plain": [
       "array([ 800000., 4500000., 6500000., 6500000., 1000000.])"
      ]
     },
     "execution_count": 18,
     "metadata": {},
     "output_type": "execute_result"
    }
   ],
   "source": [
    "y_test.to_numpy()[:5]"
   ]
  },
  {
   "cell_type": "code",
   "execution_count": 19,
   "metadata": {},
   "outputs": [
    {
     "data": {
      "text/plain": [
       "0.9827661326364915"
      ]
     },
     "execution_count": 19,
     "metadata": {},
     "output_type": "execute_result"
    }
   ],
   "source": [
    "lin_reg.score(X_test, y_test)"
   ]
  },
  {
   "cell_type": "code",
   "execution_count": 20,
   "metadata": {},
   "outputs": [
    {
     "data": {
      "text/plain": [
       "136321.75469956125"
      ]
     },
     "execution_count": 20,
     "metadata": {},
     "output_type": "execute_result"
    }
   ],
   "source": [
    "mean_absolute_error(y_test, y_pred)"
   ]
  },
  {
   "cell_type": "code",
   "execution_count": 21,
   "metadata": {},
   "outputs": [],
   "source": [
    "lin_reg_v2 = Pipeline([\n",
    "    ('encode', ColumnTransformer([\n",
    "        ('onehot', OneHotEncoder(), ['estate_flag', 'terrace_flag', 'new_flag', 'serviced_flag'])\n",
    "    ], remainder='passthrough')),\n",
    "    ('reg', LinearRegression())\n",
    "])"
   ]
  },
  {
   "cell_type": "code",
   "execution_count": 22,
   "metadata": {},
   "outputs": [
    {
     "data": {
      "text/plain": [
       "Pipeline(memory=None,\n",
       "         steps=[('encode',\n",
       "                 ColumnTransformer(n_jobs=None, remainder='passthrough',\n",
       "                                   sparse_threshold=0.3,\n",
       "                                   transformer_weights=None,\n",
       "                                   transformers=[('onehot',\n",
       "                                                  OneHotEncoder(categories='auto',\n",
       "                                                                drop=None,\n",
       "                                                                dtype=<class 'numpy.float64'>,\n",
       "                                                                handle_unknown='error',\n",
       "                                                                sparse=True),\n",
       "                                                  ['estate_flag',\n",
       "                                                   'terrace_flag', 'new_flag',\n",
       "                                                   'serviced_flag'])],\n",
       "                                   verbose=False)),\n",
       "                ('reg',\n",
       "                 LinearRegression(copy_X=True, fit_intercept=True, n_jobs=None,\n",
       "                                  normalize=False))],\n",
       "         verbose=False)"
      ]
     },
     "execution_count": 22,
     "metadata": {},
     "output_type": "execute_result"
    }
   ],
   "source": [
    "lin_reg_v2.fit(X_train, y_train)"
   ]
  },
  {
   "cell_type": "code",
   "execution_count": 23,
   "metadata": {},
   "outputs": [
    {
     "data": {
      "text/plain": [
       "0.9827661326361395"
      ]
     },
     "execution_count": 23,
     "metadata": {},
     "output_type": "execute_result"
    }
   ],
   "source": [
    "lin_reg_v2.score(X_test, y_test)"
   ]
  },
  {
   "cell_type": "code",
   "execution_count": 24,
   "metadata": {},
   "outputs": [
    {
     "data": {
      "text/plain": [
       "-3.519406988061746e-13"
      ]
     },
     "execution_count": 24,
     "metadata": {},
     "output_type": "execute_result"
    }
   ],
   "source": [
    "lin_reg_v2.score(X_test, y_test) - lin_reg.score(X_test, y_test)"
   ]
  }
 ],
 "metadata": {
  "kernelspec": {
   "display_name": "Python 3",
   "language": "python",
   "name": "python3"
  },
  "language_info": {
   "codemirror_mode": {
    "name": "ipython",
    "version": 3
   },
   "file_extension": ".py",
   "mimetype": "text/x-python",
   "name": "python",
   "nbconvert_exporter": "python",
   "pygments_lexer": "ipython3",
   "version": "3.7.6"
  }
 },
 "nbformat": 4,
 "nbformat_minor": 4
}
